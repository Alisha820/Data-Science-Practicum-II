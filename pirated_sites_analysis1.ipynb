{
 "cells": [
  {
   "cell_type": "markdown",
   "metadata": {
    "id": "WO0eWYFe6pFz"
   },
   "source": [
    "Importing Library and Dataset \n",
    "\n",
    "---\n",
    "\n"
   ]
  },
  {
   "cell_type": "code",
   "execution_count": 61,
   "metadata": {
    "id": "SWBbu-77eGoZ"
   },
   "outputs": [
    {
     "data": {
      "text/html": [
       "<div>\n",
       "<style scoped>\n",
       "    .dataframe tbody tr th:only-of-type {\n",
       "        vertical-align: middle;\n",
       "    }\n",
       "\n",
       "    .dataframe tbody tr th {\n",
       "        vertical-align: top;\n",
       "    }\n",
       "\n",
       "    .dataframe thead th {\n",
       "        text-align: right;\n",
       "    }\n",
       "</style>\n",
       "<table border=\"1\" class=\"dataframe\">\n",
       "  <thead>\n",
       "    <tr style=\"text-align: right;\">\n",
       "      <th></th>\n",
       "      <th>Unnamed: 0</th>\n",
       "      <th>IMDb-rating</th>\n",
       "      <th>appropriate_for</th>\n",
       "      <th>director</th>\n",
       "      <th>downloads</th>\n",
       "      <th>id</th>\n",
       "      <th>industry</th>\n",
       "      <th>language</th>\n",
       "      <th>posted_date</th>\n",
       "      <th>release_date</th>\n",
       "      <th>run_time</th>\n",
       "      <th>storyline</th>\n",
       "      <th>title</th>\n",
       "      <th>views</th>\n",
       "      <th>writer</th>\n",
       "    </tr>\n",
       "  </thead>\n",
       "  <tbody>\n",
       "    <tr>\n",
       "      <th>0</th>\n",
       "      <td>0</td>\n",
       "      <td>4.8</td>\n",
       "      <td>R</td>\n",
       "      <td>John Swab</td>\n",
       "      <td>304</td>\n",
       "      <td>372092</td>\n",
       "      <td>Hollywood / English</td>\n",
       "      <td>English</td>\n",
       "      <td>20 Feb, 2023</td>\n",
       "      <td>Jan 28 2023</td>\n",
       "      <td>105</td>\n",
       "      <td>Doc\\r\\n facilitates a fragile truce between th...</td>\n",
       "      <td>Little Dixie</td>\n",
       "      <td>2,794</td>\n",
       "      <td>John Swab</td>\n",
       "    </tr>\n",
       "    <tr>\n",
       "      <th>1</th>\n",
       "      <td>1</td>\n",
       "      <td>6.4</td>\n",
       "      <td>TV-PG</td>\n",
       "      <td>Paul Ziller</td>\n",
       "      <td>73</td>\n",
       "      <td>372091</td>\n",
       "      <td>Hollywood / English</td>\n",
       "      <td>English</td>\n",
       "      <td>20 Feb, 2023</td>\n",
       "      <td>Feb 05 2023</td>\n",
       "      <td>84</td>\n",
       "      <td>Caterer\\r\\n Goldy Berry reunites with detectiv...</td>\n",
       "      <td>Grilling Season: A Curious Caterer Mystery</td>\n",
       "      <td>1,002</td>\n",
       "      <td>John Christian Plummer</td>\n",
       "    </tr>\n",
       "    <tr>\n",
       "      <th>2</th>\n",
       "      <td>2</td>\n",
       "      <td>5.2</td>\n",
       "      <td>R</td>\n",
       "      <td>Ben Wheatley</td>\n",
       "      <td>1,427</td>\n",
       "      <td>343381</td>\n",
       "      <td>Hollywood / English</td>\n",
       "      <td>English,Hindi</td>\n",
       "      <td>20 Apr, 2021</td>\n",
       "      <td>Jun 18 2021</td>\n",
       "      <td>1h 47min</td>\n",
       "      <td>As the world searches for a cure to a disastro...</td>\n",
       "      <td>In the Earth</td>\n",
       "      <td>14,419</td>\n",
       "      <td>Ben Wheatley</td>\n",
       "    </tr>\n",
       "    <tr>\n",
       "      <th>3</th>\n",
       "      <td>3</td>\n",
       "      <td>8.1</td>\n",
       "      <td>NaN</td>\n",
       "      <td>Venky Atluri</td>\n",
       "      <td>1,549</td>\n",
       "      <td>372090</td>\n",
       "      <td>Tollywood</td>\n",
       "      <td>Hindi</td>\n",
       "      <td>20 Feb, 2023</td>\n",
       "      <td>Feb 17 2023</td>\n",
       "      <td>139</td>\n",
       "      <td>The life of a young man and his struggles agai...</td>\n",
       "      <td>Vaathi</td>\n",
       "      <td>4,878</td>\n",
       "      <td>Venky Atluri</td>\n",
       "    </tr>\n",
       "    <tr>\n",
       "      <th>4</th>\n",
       "      <td>4</td>\n",
       "      <td>4.6</td>\n",
       "      <td>NaN</td>\n",
       "      <td>Shaji Kailas</td>\n",
       "      <td>657</td>\n",
       "      <td>372089</td>\n",
       "      <td>Tollywood</td>\n",
       "      <td>Hindi</td>\n",
       "      <td>20 Feb, 2023</td>\n",
       "      <td>Jan 26 2023</td>\n",
       "      <td>122</td>\n",
       "      <td>A man named Kalidas gets stranded due to the p...</td>\n",
       "      <td>Alone</td>\n",
       "      <td>2,438</td>\n",
       "      <td>Rajesh Jayaraman</td>\n",
       "    </tr>\n",
       "    <tr>\n",
       "      <th>...</th>\n",
       "      <td>...</td>\n",
       "      <td>...</td>\n",
       "      <td>...</td>\n",
       "      <td>...</td>\n",
       "      <td>...</td>\n",
       "      <td>...</td>\n",
       "      <td>...</td>\n",
       "      <td>...</td>\n",
       "      <td>...</td>\n",
       "      <td>...</td>\n",
       "      <td>...</td>\n",
       "      <td>...</td>\n",
       "      <td>...</td>\n",
       "      <td>...</td>\n",
       "      <td>...</td>\n",
       "    </tr>\n",
       "    <tr>\n",
       "      <th>20543</th>\n",
       "      <td>20543</td>\n",
       "      <td>NaN</td>\n",
       "      <td>NaN</td>\n",
       "      <td>NaN</td>\n",
       "      <td>1,998</td>\n",
       "      <td>28957</td>\n",
       "      <td>Bollywood / Indian</td>\n",
       "      <td>Hindi</td>\n",
       "      <td>01 Jan, 1970</td>\n",
       "      <td>Mar 13 1959</td>\n",
       "      <td>NaN</td>\n",
       "      <td>NaN</td>\n",
       "      <td>Bhai-Bahen</td>\n",
       "      <td>6,219</td>\n",
       "      <td>NaN</td>\n",
       "    </tr>\n",
       "    <tr>\n",
       "      <th>20544</th>\n",
       "      <td>20544</td>\n",
       "      <td>7.7</td>\n",
       "      <td>NaN</td>\n",
       "      <td>Bimal Roy</td>\n",
       "      <td>6,080</td>\n",
       "      <td>28958</td>\n",
       "      <td>Bollywood / Indian</td>\n",
       "      <td>Hindi</td>\n",
       "      <td>01 Jan, 1970</td>\n",
       "      <td>May 13 1955</td>\n",
       "      <td>159</td>\n",
       "      <td>Devdas and Parvati had been inseparable as chi...</td>\n",
       "      <td>Devdas</td>\n",
       "      <td>16,376</td>\n",
       "      <td>Rajinder Singh Bedi, Saratchandra Chatterjee, ...</td>\n",
       "    </tr>\n",
       "    <tr>\n",
       "      <th>20545</th>\n",
       "      <td>20545</td>\n",
       "      <td>8.0</td>\n",
       "      <td>NaN</td>\n",
       "      <td>NaN</td>\n",
       "      <td>3,276</td>\n",
       "      <td>30459</td>\n",
       "      <td>Bollywood / Indian</td>\n",
       "      <td>Hindi</td>\n",
       "      <td>01 Jan, 1970</td>\n",
       "      <td>Mar 28 1958</td>\n",
       "      <td>1h 50min</td>\n",
       "      <td>While driving his car on a rainy night, Anand'...</td>\n",
       "      <td>Madhumati</td>\n",
       "      <td>7,220</td>\n",
       "      <td>NaN</td>\n",
       "    </tr>\n",
       "    <tr>\n",
       "      <th>20546</th>\n",
       "      <td>20546</td>\n",
       "      <td>NaN</td>\n",
       "      <td>NaN</td>\n",
       "      <td>NaN</td>\n",
       "      <td>309</td>\n",
       "      <td>371669</td>\n",
       "      <td>Wrestling</td>\n",
       "      <td>English</td>\n",
       "      <td>10 Feb, 2023</td>\n",
       "      <td>Feb 09 2023</td>\n",
       "      <td>NaN</td>\n",
       "      <td>NaN</td>\n",
       "      <td>TNA.Impact 2023-02-09</td>\n",
       "      <td>1,419</td>\n",
       "      <td>NaN</td>\n",
       "    </tr>\n",
       "    <tr>\n",
       "      <th>20547</th>\n",
       "      <td>20547</td>\n",
       "      <td>NaN</td>\n",
       "      <td>NaN</td>\n",
       "      <td>NaN</td>\n",
       "      <td>2,613</td>\n",
       "      <td>371816</td>\n",
       "      <td>Wrestling</td>\n",
       "      <td>English</td>\n",
       "      <td>14 Feb, 2023</td>\n",
       "      <td>Feb 13 2023</td>\n",
       "      <td>NaN</td>\n",
       "      <td>NaN</td>\n",
       "      <td>WWE Raw 2023-02-13</td>\n",
       "      <td>6,697</td>\n",
       "      <td>NaN</td>\n",
       "    </tr>\n",
       "  </tbody>\n",
       "</table>\n",
       "<p>20548 rows × 15 columns</p>\n",
       "</div>"
      ],
      "text/plain": [
       "       Unnamed: 0  IMDb-rating appropriate_for      director downloads  \\\n",
       "0               0          4.8               R     John Swab       304   \n",
       "1               1          6.4           TV-PG   Paul Ziller        73   \n",
       "2               2          5.2               R  Ben Wheatley     1,427   \n",
       "3               3          8.1             NaN  Venky Atluri     1,549   \n",
       "4               4          4.6             NaN  Shaji Kailas       657   \n",
       "...           ...          ...             ...           ...       ...   \n",
       "20543       20543          NaN             NaN           NaN     1,998   \n",
       "20544       20544          7.7             NaN     Bimal Roy     6,080   \n",
       "20545       20545          8.0             NaN           NaN     3,276   \n",
       "20546       20546          NaN             NaN           NaN       309   \n",
       "20547       20547          NaN             NaN           NaN     2,613   \n",
       "\n",
       "           id             industry       language   posted_date release_date  \\\n",
       "0      372092  Hollywood / English        English  20 Feb, 2023  Jan 28 2023   \n",
       "1      372091  Hollywood / English        English  20 Feb, 2023  Feb 05 2023   \n",
       "2      343381  Hollywood / English  English,Hindi  20 Apr, 2021  Jun 18 2021   \n",
       "3      372090            Tollywood          Hindi  20 Feb, 2023  Feb 17 2023   \n",
       "4      372089            Tollywood          Hindi  20 Feb, 2023  Jan 26 2023   \n",
       "...       ...                  ...            ...           ...          ...   \n",
       "20543   28957   Bollywood / Indian          Hindi  01 Jan, 1970  Mar 13 1959   \n",
       "20544   28958   Bollywood / Indian          Hindi  01 Jan, 1970  May 13 1955   \n",
       "20545   30459   Bollywood / Indian          Hindi  01 Jan, 1970  Mar 28 1958   \n",
       "20546  371669            Wrestling        English  10 Feb, 2023  Feb 09 2023   \n",
       "20547  371816            Wrestling        English  14 Feb, 2023  Feb 13 2023   \n",
       "\n",
       "       run_time                                          storyline  \\\n",
       "0           105  Doc\\r\\n facilitates a fragile truce between th...   \n",
       "1            84  Caterer\\r\\n Goldy Berry reunites with detectiv...   \n",
       "2      1h 47min  As the world searches for a cure to a disastro...   \n",
       "3           139  The life of a young man and his struggles agai...   \n",
       "4           122  A man named Kalidas gets stranded due to the p...   \n",
       "...         ...                                                ...   \n",
       "20543       NaN                                                NaN   \n",
       "20544       159  Devdas and Parvati had been inseparable as chi...   \n",
       "20545  1h 50min  While driving his car on a rainy night, Anand'...   \n",
       "20546       NaN                                                NaN   \n",
       "20547       NaN                                                NaN   \n",
       "\n",
       "                                            title   views  \\\n",
       "0                                    Little Dixie   2,794   \n",
       "1      Grilling Season: A Curious Caterer Mystery   1,002   \n",
       "2                                    In the Earth  14,419   \n",
       "3                                          Vaathi   4,878   \n",
       "4                                           Alone   2,438   \n",
       "...                                           ...     ...   \n",
       "20543                                  Bhai-Bahen   6,219   \n",
       "20544                                      Devdas  16,376   \n",
       "20545                                   Madhumati   7,220   \n",
       "20546                       TNA.Impact 2023-02-09   1,419   \n",
       "20547                          WWE Raw 2023-02-13   6,697   \n",
       "\n",
       "                                                  writer  \n",
       "0                                              John Swab  \n",
       "1                                 John Christian Plummer  \n",
       "2                                           Ben Wheatley  \n",
       "3                                           Venky Atluri  \n",
       "4                                       Rajesh Jayaraman  \n",
       "...                                                  ...  \n",
       "20543                                                NaN  \n",
       "20544  Rajinder Singh Bedi, Saratchandra Chatterjee, ...  \n",
       "20545                                                NaN  \n",
       "20546                                                NaN  \n",
       "20547                                                NaN  \n",
       "\n",
       "[20548 rows x 15 columns]"
      ]
     },
     "execution_count": 61,
     "metadata": {},
     "output_type": "execute_result"
    }
   ],
   "source": [
    "import pandas as pd\n",
    "import matplotlib.pyplot as plt\n",
    "import numpy as np\n",
    "\n",
    "data = pd.read_csv ('/Users/alisha/Downloads/movies_dataset.csv')\n",
    "data"
   ]
  },
  {
   "cell_type": "markdown",
   "metadata": {
    "id": "lmJdWxugjdbN"
   },
   "source": [
    "**Integrating Box office dataset with movies dataset**\n",
    "\n",
    "---\n",
    "\n"
   ]
  },
  {
   "cell_type": "code",
   "execution_count": 3,
   "metadata": {
    "id": "WmPsG3IWaDkd"
   },
   "outputs": [],
   "source": [
    "import requests\n",
    "from bs4 import BeautifulSoup\n",
    "\n",
    "# Load the movie dataset into a pandas DataFrame \n",
    "movies_df = data\n",
    "\n",
    "# Create an empty list to store the box office data \n",
    "box_office_data = []\n",
    "\n",
    "# Scrape the box office data and add it to the list \n",
    "url = \"http://www.boxofficemojo.com/year/world\" \n",
    "response = requests.get(url)\n",
    "soup = BeautifulSoup(response.content,'html.parser')\n",
    "table = soup.find_all('table')[0]\n",
    "table = soup.find_all('table')[0] \n",
    "\n",
    "rows = table.find_all('tr')[1:]\n",
    "for row in rows: \n",
    "  columns = row.find_all('td') \n",
    "  title = columns[1].text.strip() \n",
    "  box_office_gross = columns[3].text.strip() \n",
    "  box_office_data.append({\"title\": title, \"box_office_gross\": box_office_gross})\n",
    "# Create a new DataFrame with the box office data \n",
    "box_office_df = pd.DataFrame(box_office_data)\n",
    "\n",
    "# Merge the box office DataFrame with the movie DataFrame based on the movie title and release date \n",
    "merged_df = pd.merge(movies_df, box_office_df, on=[\"title\"])\n",
    "\n",
    "# Save the merged DataFrame to a new CSV file \n",
    "merged_df.to_csv(\"merged_dataset.csv\", index=False)\n",
    "\n",
    "# Export merged_df\n",
    "merged_df.to_csv('merged_dataset.csv', index=False)"
   ]
  },
  {
   "cell_type": "markdown",
   "metadata": {
    "id": "4iF5vWhokBhL"
   },
   "source": [
    "**Print the merged DataFrame**\n",
    "\n",
    "---\n",
    "\n"
   ]
  },
  {
   "cell_type": "code",
   "execution_count": 4,
   "metadata": {
    "colab": {
     "base_uri": "https://localhost:8080/"
    },
    "id": "MD60Y_jUj823",
    "outputId": "9a79704e-0acc-4612-ee45-893285f5c030"
   },
   "outputs": [
    {
     "name": "stdout",
     "output_type": "stream",
     "text": [
      "     Unnamed: 0  IMDb-rating appropriate_for              director downloads  \\\n",
      "0            13          6.6           PG-13           Peyton Reed    14,867   \n",
      "1            21          5.2           PG-13        Michael Jacobs       271   \n",
      "2            29          6.1               R           Neil Jordan       283   \n",
      "3            36          6.1               R           Neil Jordan       283   \n",
      "4            80          6.1               R           Neil Jordan       283   \n",
      "..          ...          ...             ...                   ...       ...   \n",
      "225        6677          5.4             NaN         Rick Alverson       189   \n",
      "226        8590          5.8       Not Rated       Mukul Abhyankar    42,893   \n",
      "227        9209          4.7             NaN                   NaN     2,287   \n",
      "228       12768          5.1           PG-13  Christian Cantamessa     3,645   \n",
      "229       15714          5.9               R         Todd Robinson    13,166   \n",
      "\n",
      "         id             industry               language   posted_date  \\\n",
      "0    371992  Hollywood / English          English,Hindi  17 Feb, 2023   \n",
      "1    371115  Hollywood / English                English  30 Jan, 2023   \n",
      "2    371876  Hollywood / English                English  15 Feb, 2023   \n",
      "3    371876  Hollywood / English                English  15 Feb, 2023   \n",
      "4    371876  Hollywood / English                English  15 Feb, 2023   \n",
      "..      ...                  ...                    ...           ...   \n",
      "225  309106  Hollywood / English  English,French,German  09 Aug, 2019   \n",
      "226  260013   Bollywood / Indian                  Hindi  16 Apr, 2018   \n",
      "227  248674  Hollywood / English                English  30 Dec, 2017   \n",
      "228  141633  Hollywood / English                English  15 Aug, 2015   \n",
      "229   28921  Hollywood / English                English  13 Jun, 2013   \n",
      "\n",
      "    release_date  run_time                                          storyline  \\\n",
      "0    Feb 17 2023       125  Scott\\r\\n Lang and Hope Van Dyne, along with H...   \n",
      "1    Jan 26 2023        95  Michelle\\r\\n and Allen are in a relationship. ...   \n",
      "2    Feb 15 2023       110  In late 1930's Bay City, a brooding, down on h...   \n",
      "3    Feb 15 2023       110  In late 1930's Bay City, a brooding, down on h...   \n",
      "4    Feb 15 2023       110  In late 1930's Bay City, a brooding, down on h...   \n",
      "..           ...       ...                                                ...   \n",
      "225  Jul 26 2019       106  A motherless and emotionally remote young man ...   \n",
      "226  Apr 06 2018       120  Sushant Dubey checks in at a beach resort of M...   \n",
      "227  Jan 01 1970  1h 29min  A woman in her third trimester of pregnancy is...   \n",
      "228  Aug 14 2015  1h 35min  In the near future, breathable air is nonexist...   \n",
      "229  Jun 12 2013        98  'Ed Harris' plays the captain of a Cold War So...   \n",
      "\n",
      "                                 title    views  \\\n",
      "0    Ant-Man and the Wasp: Quantumania   39,399   \n",
      "1                           Maybe I Do    3,584   \n",
      "2                              Marlowe    3,044   \n",
      "3                              Marlowe    3,045   \n",
      "4                              Marlowe    3,046   \n",
      "..                                 ...      ...   \n",
      "225                       The Mountain    3,062   \n",
      "226                            Missing  202,010   \n",
      "227                             Inside   26,946   \n",
      "228                                Air   22,789   \n",
      "229                            Phantom   48,979   \n",
      "\n",
      "                                               writer box_office_gross  \n",
      "0                           Jack Kirby, Jeff Loveness     $212,913,580  \n",
      "1                                      Michael Jacobs       $1,293,722  \n",
      "2    William Monahan, John Banville, Raymond Chandler       $4,350,243  \n",
      "3    William Monahan, John Banville, Raymond Chandler       $4,350,243  \n",
      "4    William Monahan, John Banville, Raymond Chandler       $4,350,243  \n",
      "..                                                ...              ...  \n",
      "225      Rick Alverson, Dustin Guy Defa, Colm O'Leary                -  \n",
      "226                                   Mukul Abhyankar      $32,502,025  \n",
      "227                                               NaN         $897,190  \n",
      "228               Christian Cantamessa, Chris Pasetto      $33,409,758  \n",
      "229                                     Todd Robinson                -  \n",
      "\n",
      "[230 rows x 16 columns]\n"
     ]
    }
   ],
   "source": [
    "print(merged_df)"
   ]
  },
  {
   "cell_type": "markdown",
   "metadata": {
    "id": "vVWgQu0FkKMP"
   },
   "source": [
    "**Correlation matrix plot using Heatmap of merged dataset**\n",
    "\n",
    "---\n",
    "\n"
   ]
  },
  {
   "cell_type": "code",
   "execution_count": 5,
   "metadata": {
    "colab": {
     "base_uri": "https://localhost:8080/",
     "height": 507
    },
    "id": "peqUfrnLajtT",
    "outputId": "7aafba2b-fe2d-4975-c17c-5f03592ba44c"
   },
   "outputs": [
    {
     "data": {
      "text/plain": [
       "<AxesSubplot:>"
      ]
     },
     "execution_count": 5,
     "metadata": {},
     "output_type": "execute_result"
    },
    {
     "data": {
      "image/png": "[encoded data removed]",
      "text/plain": [
       "<Figure size 432x288 with 2 Axes>"
      ]
     },
     "metadata": {
      "needs_background": "light"
     },
     "output_type": "display_data"
    }
   ],
   "source": [
    "import seaborn as sns\n",
    "\n",
    "# Calculate the correlation matrix\n",
    "corr_matrix = merged_df.corr()\n",
    "\n",
    "# Plot the correlation matrix using a heatmap\n",
    "sns.heatmap(corr_matrix, annot=True, cmap='coolwarm')"
   ]
  },
  {
   "cell_type": "markdown",
   "metadata": {
    "id": "7MFxBFY3ngsq"
   },
   "source": [
    "What factors influence the number of downloads (Also meaning mostly pirated) a movie receives? How much of an impact does the industry, language, or release date have on the number of downloads?"
   ]
  },
  {
   "cell_type": "markdown",
   "metadata": {
    "id": "ET1HRtt0kkqM"
   },
   "source": [
    "**calculate the mean downloads for each language, industry and release year**\n",
    "\n",
    "---\n",
    "\n"
   ]
  },
  {
   "cell_type": "code",
   "execution_count": 6,
   "metadata": {
    "id": "T5gWIrgelu7u"
   },
   "outputs": [],
   "source": [
    "merged_data = merged_df\n",
    "\n",
    "# clean up the downloads column\n",
    "merged_data['downloads'] = merged_data['downloads'].str.replace(',', '').astype(float)\n",
    "\n",
    "# calculate the mean downloads for each language\n",
    "language_downloads = merged_data.groupby('language')['downloads'].mean()\n",
    "\n",
    "# calculate the mean downloads for each industry\n",
    "industry_downloads = merged_data.groupby('industry')['downloads'].mean()\n",
    "\n",
    "# calculate the mean downloads for each release year\n",
    "merged_data['release_date'] = pd.to_datetime(merged_data['release_date'])\n",
    "year_downloads = merged_data.groupby(merged_data['release_date'].dt.year)['downloads'].mean()"
   ]
  },
  {
   "cell_type": "markdown",
   "metadata": {
    "id": "sHYZTGdmkvdG"
   },
   "source": [
    "**Plot the result for Q1**\n",
    "\n",
    "---\n",
    "\n"
   ]
  },
  {
   "cell_type": "code",
   "execution_count": 7,
   "metadata": {
    "colab": {
     "base_uri": "https://localhost:8080/",
     "height": 1000
    },
    "id": "DbsxgfrNlSr3",
    "outputId": "287c9ac5-d655-4c3e-ca6f-cad6233aa4b0"
   },
   "outputs": [
    {
     "data": {
      "image/png": "[encoded data removed]",
      "text/plain": [
       "<Figure size 432x288 with 1 Axes>"
      ]
     },
     "metadata": {
      "needs_background": "light"
     },
     "output_type": "display_data"
    },
    {
     "data": {
      "image/png": "[encoded data removed]",
      "text/plain": [
       "<Figure size 432x288 with 1 Axes>"
      ]
     },
     "metadata": {
      "needs_background": "light"
     },
     "output_type": "display_data"
    },
    {
     "data": {
      "image/png": "[encoded data removed]",
      "text/plain": [
       "<Figure size 432x288 with 1 Axes>"
      ]
     },
     "metadata": {
      "needs_background": "light"
     },
     "output_type": "display_data"
    }
   ],
   "source": [
    "import matplotlib.pyplot as plt\n",
    "\n",
    "# Plot a bar chart of the number of downloads by industry\n",
    "merged_df.groupby('industry')['downloads'].mean().plot(kind='bar')\n",
    "plt.title('Average Downloads by Industry')\n",
    "plt.xlabel('Industry')\n",
    "plt.ylabel('Downloads')\n",
    "plt.show()\n",
    "\n",
    "# Plot a bar chart of the number of downloads by language\n",
    "merged_df.groupby('language')['downloads'].mean().plot(kind='bar')\n",
    "plt.title('Average Downloads by Language')\n",
    "plt.xlabel('Language')\n",
    "plt.ylabel('Downloads')\n",
    "plt.show()\n",
    "\n",
    "# Plot a line chart of the number of downloads over time\n",
    "merged_df.groupby('release_date')['downloads'].mean().plot(kind='line')\n",
    "plt.title('Downloads Over Time')\n",
    "plt.xlabel('Release Date')\n",
    "plt.ylabel('Downloads')\n",
    "plt.show()\n"
   ]
  },
  {
   "cell_type": "markdown",
   "metadata": {
    "id": "Q0trW6YYncal"
   },
   "source": [
    "Does the IMDb rate of any movie affect the download number of the movie? What is the highest pirated movie together and from each industry?"
   ]
  },
  {
   "cell_type": "code",
   "execution_count": 8,
   "metadata": {
    "colab": {
     "base_uri": "https://localhost:8080/"
    },
    "id": "Jfoe-TjOlSoZ",
    "outputId": "bef57bef-3d88-4f3a-de19-28f444e94879"
   },
   "outputs": [
    {
     "name": "stdout",
     "output_type": "stream",
     "text": [
      "Top 3 highest pirated movies:\n",
      "Pathaan (Bollywood / Indian) - IMDb rating: 7.0, downloads: 161862.0\n",
      "Thunivu (Tollywood) - IMDb rating: 6.7, downloads: 37593.0\n",
      "Ant-Man and the Wasp: Quantumania (Hollywood / English) - IMDb rating: 6.6, downloads: 14867.0\n"
     ]
    }
   ],
   "source": [
    "# group the data by industry and find the highest pirated movie in each industry\n",
    "highest_pirated_movies = merged_df.groupby('industry').apply(lambda x: x.loc[x['downloads'].idxmax()])\n",
    "\n",
    "# sort the movies by IMDb rating and display the top 3\n",
    "highest_pirated_movies_sorted = highest_pirated_movies.sort_values(by='IMDb-rating', ascending=False)\n",
    "top_3_movies = highest_pirated_movies_sorted.head(3)\n",
    "\n",
    "# print the top 3 movies\n",
    "print('Top 3 highest pirated movies:')\n",
    "for index, row in top_3_movies.iterrows():\n",
    "    print(f\"{row['title']} ({row['industry']}) - IMDb rating: {row['IMDb-rating']}, downloads: {row['downloads']}\")"
   ]
  },
  {
   "cell_type": "markdown",
   "metadata": {
    "id": "UqZ5b9tMnVrS"
   },
   "source": [
    "Which industry is mostly affected by piracy?"
   ]
  },
  {
   "cell_type": "code",
   "execution_count": 9,
   "metadata": {
    "colab": {
     "base_uri": "https://localhost:8080/"
    },
    "id": "WPNBkcl-lSjn",
    "outputId": "a87e1aeb-9048-44cc-9300-fa12f331dda6"
   },
   "outputs": [
    {
     "name": "stdout",
     "output_type": "stream",
     "text": [
      "The industry with the highest total number of downloads is: Bollywood / Indian\n"
     ]
    }
   ],
   "source": [
    "# Group the movies by industry and calculate the total number of downloads for each industry\n",
    "industry_downloads = merged_df.groupby(\"industry\")[\"downloads\"].sum()\n",
    "\n",
    "# Sort the industries by the total number of downloads in descending order\n",
    "industry_downloads = industry_downloads.sort_values(ascending=False)\n",
    "\n",
    "# Print the industry with the highest total number of downloads\n",
    "print(\"The industry with the highest total number of downloads is:\", industry_downloads.index[0])"
   ]
  },
  {
   "cell_type": "code",
   "execution_count": 10,
   "metadata": {
    "colab": {
     "base_uri": "https://localhost:8080/",
     "height": 520
    },
    "id": "eaoYRyOiI-3J",
    "outputId": "86b81216-fa82-4d3f-d597-2aec17dffc6e"
   },
   "outputs": [
    {
     "data": {
      "text/html": [
       "<div>\n",
       "<style scoped>\n",
       "    .dataframe tbody tr th:only-of-type {\n",
       "        vertical-align: middle;\n",
       "    }\n",
       "\n",
       "    .dataframe tbody tr th {\n",
       "        vertical-align: top;\n",
       "    }\n",
       "\n",
       "    .dataframe thead th {\n",
       "        text-align: right;\n",
       "    }\n",
       "</style>\n",
       "<table border=\"1\" class=\"dataframe\">\n",
       "  <thead>\n",
       "    <tr style=\"text-align: right;\">\n",
       "      <th></th>\n",
       "      <th>0</th>\n",
       "    </tr>\n",
       "  </thead>\n",
       "  <tbody>\n",
       "    <tr>\n",
       "      <th>Unnamed: 0</th>\n",
       "      <td>0</td>\n",
       "    </tr>\n",
       "    <tr>\n",
       "      <th>IMDb-rating</th>\n",
       "      <td>841</td>\n",
       "    </tr>\n",
       "    <tr>\n",
       "      <th>appropriate_for</th>\n",
       "      <td>9476</td>\n",
       "    </tr>\n",
       "    <tr>\n",
       "      <th>director</th>\n",
       "      <td>1938</td>\n",
       "    </tr>\n",
       "    <tr>\n",
       "      <th>downloads</th>\n",
       "      <td>1</td>\n",
       "    </tr>\n",
       "    <tr>\n",
       "      <th>id</th>\n",
       "      <td>0</td>\n",
       "    </tr>\n",
       "    <tr>\n",
       "      <th>industry</th>\n",
       "      <td>1</td>\n",
       "    </tr>\n",
       "    <tr>\n",
       "      <th>language</th>\n",
       "      <td>542</td>\n",
       "    </tr>\n",
       "    <tr>\n",
       "      <th>posted_date</th>\n",
       "      <td>1</td>\n",
       "    </tr>\n",
       "    <tr>\n",
       "      <th>release_date</th>\n",
       "      <td>1</td>\n",
       "    </tr>\n",
       "    <tr>\n",
       "      <th>run_time</th>\n",
       "      <td>1768</td>\n",
       "    </tr>\n",
       "    <tr>\n",
       "      <th>storyline</th>\n",
       "      <td>1701</td>\n",
       "    </tr>\n",
       "    <tr>\n",
       "      <th>title</th>\n",
       "      <td>1</td>\n",
       "    </tr>\n",
       "    <tr>\n",
       "      <th>views</th>\n",
       "      <td>1</td>\n",
       "    </tr>\n",
       "    <tr>\n",
       "      <th>writer</th>\n",
       "      <td>2192</td>\n",
       "    </tr>\n",
       "  </tbody>\n",
       "</table>\n",
       "</div>"
      ],
      "text/plain": [
       "                    0\n",
       "Unnamed: 0          0\n",
       "IMDb-rating       841\n",
       "appropriate_for  9476\n",
       "director         1938\n",
       "downloads           1\n",
       "id                  0\n",
       "industry            1\n",
       "language          542\n",
       "posted_date         1\n",
       "release_date        1\n",
       "run_time         1768\n",
       "storyline        1701\n",
       "title               1\n",
       "views               1\n",
       "writer           2192"
      ]
     },
     "execution_count": 10,
     "metadata": {},
     "output_type": "execute_result"
    }
   ],
   "source": [
    "count_of_missing_values=data.isna().sum()  \n",
    "pd.DataFrame(data.isna().sum())    "
   ]
  },
  {
   "cell_type": "markdown",
   "metadata": {
    "id": "w0bC3fy6-i0m"
   },
   "source": [
    "**Percentage of Missing Values :**\n",
    "\n",
    "\n",
    "---\n",
    "\n",
    "\n",
    "\n",
    "The np.product(data.shape) calculates the total number of values in the dataset by multiplying the number of rows with the number of columns.\n",
    "\n",
    "The count_of_missing_values.sum() calculates the total number of missing values in the dataset.\n",
    "\n",
    "The miss_p = (numerator/total_values)*100 calculates the percentage of missing values by dividing the total number of missing values by the total number of values in the dataset and multiplying by 100.\n",
    "\n",
    "Finally, the code prints the calculated percentage of missing values."
   ]
  },
  {
   "cell_type": "code",
   "execution_count": 11,
   "metadata": {
    "colab": {
     "base_uri": "https://localhost:8080/"
    },
    "id": "IZhukMmMo06w",
    "outputId": "3429d2b9-56b7-40ed-ab3b-ee7a56ec2cfd"
   },
   "outputs": [
    {
     "name": "stdout",
     "output_type": "stream",
     "text": [
      " The percentage of missing values from the dataset is : 5.990526247485562\n"
     ]
    }
   ],
   "source": [
    "total_values = np.product(data.shape)\n",
    "numerator = count_of_missing_values.sum()\n",
    "miss_p  = (numerator/ total_values)*100\n",
    "print(\" The percentage of missing values from the dataset is :\", miss_p)"
   ]
  },
  {
   "cell_type": "markdown",
   "metadata": {
    "id": "-75QClqpy64r"
   },
   "source": [
    "# Data Cleaning and Preperation\n",
    "\n"
   ]
  },
  {
   "cell_type": "code",
   "execution_count": 12,
   "metadata": {
    "id": "E0aULZ6Ao4kP"
   },
   "outputs": [],
   "source": [
    "\n",
    "data['appropriate_for']=data['appropriate_for'].fillna('Unrated')\n",
    "\n",
    "data['appropriate_for'] =data['appropriate_for'].replace('Not Rated', 'Unrated')\n",
    "\n",
    "data['views']=data['views'].fillna('0')\n",
    "data['views'].isnull().sum()\n",
    "data['views'] = data['views'].apply(lambda x:(x.replace(',', ''))).astype(int)\n",
    "\n"
   ]
  },
  {
   "cell_type": "markdown",
   "metadata": {
    "id": "B9SZEg2Z_EWX"
   },
   "source": [
    "**Explanation :**\n",
    "\n",
    "1. data['appropriate_for']=data['appropriate_for'].fillna('Unrated'): This line fills in the missing values in the 'appropriate_for' column with the string 'Unrated'. This is done to ensure that every value in the column has a valid rating.\n",
    "\n",
    "2. data['appropriate_for'] =data['appropriate_for'].replace('Not Rated', 'Unrated'): This line replaces any occurrences of 'Not Rated' in the 'appropriate_for' column with 'Unrated'. This is done to standardize the rating system and avoid any confusion or inconsistency in the data.\n",
    "\n",
    "3. data['views']=data['views'].fillna('0'): This line fills in the missing values in the 'views' column with the value 0. This is done to ensure that every row in the dataset has a valid view count.\n",
    "\n",
    "4. data['views'] = data['views'].apply(lambda x:(x.replace(',', ''))).astype(int): This line removes any commas in the 'views' column and converts the data type to integer. This is done to make it easier to perform numerical operations on the view count data."
   ]
  },
  {
   "cell_type": "code",
   "execution_count": 13,
   "metadata": {
    "colab": {
     "base_uri": "https://localhost:8080/"
    },
    "id": "kHaFUOFGKJAe",
    "outputId": "9474e43a-0c49-4692-b340-0336a5eff6a9"
   },
   "outputs": [
    {
     "data": {
      "text/plain": [
       "Vaathi                                           402\n",
       "Who Invited Charlie?                             402\n",
       "The Girl Who Escaped: The Kara Robinson Story    402\n",
       "The Inspection                                   202\n",
       "Consent                                          202\n",
       "                                                ... \n",
       "Brothers' Nest                                     1\n",
       "First We Take Brooklyn                             1\n",
       "Shadow Assassins                                   1\n",
       "The Cellar                                         1\n",
       "The Wedding Year                                   1\n",
       "Name: title, Length: 16572, dtype: int64"
      ]
     },
     "execution_count": 13,
     "metadata": {},
     "output_type": "execute_result"
    }
   ],
   "source": [
    "data['title'].value_counts()\n"
   ]
  },
  {
   "cell_type": "markdown",
   "metadata": {
    "id": "Bqfs2DOC_gEQ"
   },
   "source": [
    "This code is used to count the number of occurrences of each unique value in the 'title' column of the 'data' dataframe. It returns a new dataframe where the index contains each unique title and the corresponding values show how many times that title occurs in the 'title' column of the 'data' dataframe."
   ]
  },
  {
   "cell_type": "markdown",
   "metadata": {
    "id": "jbSZvNZd_-wk"
   },
   "source": [
    "**Identifying Duplicates**\n",
    "\n",
    "---\n",
    "\n"
   ]
  },
  {
   "cell_type": "code",
   "execution_count": 14,
   "metadata": {
    "colab": {
     "base_uri": "https://localhost:8080/"
    },
    "id": "CU2EkFOxLIQu",
    "outputId": "e628df7c-6e5a-4fcf-8d1d-94c10a50df66"
   },
   "outputs": [
    {
     "data": {
      "text/plain": [
       "['Vaathi',\n",
       " 'Who Invited Charlie?',\n",
       " 'The Girl Who Escaped: The Kara Robinson Story',\n",
       " 'The Inspection',\n",
       " 'Consent',\n",
       " 'WWE Smackdown 2023-02-10',\n",
       " 'Vacation Home Nightmare',\n",
       " 'Little Dixie',\n",
       " 'Your Place or Mine',\n",
       " 'Carnifex',\n",
       " 'Marlowe',\n",
       " 'Shehzada',\n",
       " 'Baby Ruby',\n",
       " 'WWE Raw 2023-02-13',\n",
       " 'TNA.Impact 2023-02-09']"
      ]
     },
     "execution_count": 14,
     "metadata": {},
     "output_type": "execute_result"
    }
   ],
   "source": [
    "counts = data['title'].value_counts()\n",
    "counts = counts[counts>76]\n",
    "\n",
    "duplicate_titles=counts.index.tolist()\n",
    "duplicate_titles"
   ]
  },
  {
   "cell_type": "markdown",
   "metadata": {
    "id": "nLjcRSPT_1oG"
   },
   "source": [
    "The code above is finding the titles of movies that appear more than 76 times in the dataset.\n",
    "\n",
    "data['title'].value_counts() returns a count of how many times each unique movie title appears in the 'title' column of the DataFrame.\n",
    "\n",
    "counts[counts>76] filters the above count to only include movies that have appeared more than 76 times.\n",
    "\n",
    "counts.index.tolist() returns a list of the movie titles that satisfy the above condition, which are considered to be duplicate titles."
   ]
  },
  {
   "cell_type": "markdown",
   "metadata": {
    "id": "BXo5bzKIAix2"
   },
   "source": [
    "**Fixing the duplicates**\n",
    "\n",
    "---\n",
    "\n"
   ]
  },
  {
   "cell_type": "code",
   "execution_count": 15,
   "metadata": {
    "id": "4rIqdoDQL0lO"
   },
   "outputs": [],
   "source": [
    "import math\n",
    "def fix_duplicates(df,x):\n",
    "    y = 0\n",
    "    temp= []\n",
    "\n",
    "    y=math.ceil(np.mean(x[x['title']==df]['views']))\n",
    "    temp=x[x['title']==df].iloc[0]\n",
    "    print(temp)\n",
    "\n",
    "    x= x.drop(x[x['title']==df].index)\n",
    "\n",
    "    x = x.append(temp,ignore_index = True)\n",
    "    x.loc[x['title'] == df, 'views'] = y\n",
    "    return x\n"
   ]
  },
  {
   "cell_type": "markdown",
   "metadata": {
    "id": "tlWDffG0AmT_"
   },
   "source": [
    "**The above code explanation :**\n",
    "\n",
    "Calculates the mean of the 'views' column for all the rows in x that have the same 'title' as the input df.\n",
    "\n",
    "Selects the first row from x that has the same 'title' as the input df and stores it in a temporary variable called temp.\n",
    "\n",
    "Removes all the rows from x that have the same 'title' as the input df.\n",
    "\n",
    "Appends the row stored in temp back to x.\n",
    "\n",
    "Sets the value of 'views' to the mean calculated in step 1 for the row that has the same 'title' as the input df.\n",
    "\n",
    "Returns the updated x."
   ]
  },
  {
   "cell_type": "markdown",
   "metadata": {
    "id": "KdkLh-QPBVjF"
   },
   "source": [
    "**Fixing all the titles in the duplicate_titles**\n",
    "\n",
    "---\n",
    "\n"
   ]
  },
  {
   "cell_type": "code",
   "execution_count": 16,
   "metadata": {
    "colab": {
     "base_uri": "https://localhost:8080/"
    },
    "id": "3YFPKnHqLpr8",
    "outputId": "203c17eb-a032-4f0e-f580-bcdd887a76ef"
   },
   "outputs": [
    {
     "name": "stdout",
     "output_type": "stream",
     "text": [
      "Unnamed: 0                                                         3\n",
      "IMDb-rating                                                      8.1\n",
      "appropriate_for                                              Unrated\n",
      "director                                                Venky Atluri\n",
      "downloads                                                      1,549\n",
      "id                                                            372090\n",
      "industry                                                   Tollywood\n",
      "language                                                       Hindi\n",
      "posted_date                                             20 Feb, 2023\n",
      "release_date                                             Feb 17 2023\n",
      "run_time                                                         139\n",
      "storyline          The life of a young man and his struggles agai...\n",
      "title                                                         Vaathi\n",
      "views                                                           4878\n",
      "writer                                                  Venky Atluri\n",
      "Name: 3, dtype: object\n",
      "Unnamed: 0                                                        41\n",
      "IMDb-rating                                                      8.8\n",
      "appropriate_for                                              Unrated\n",
      "director                                             Xavier Manrique\n",
      "downloads                                                         75\n",
      "id                                                            371744\n",
      "industry                                         Hollywood / English\n",
      "language                                                     English\n",
      "posted_date                                             13 Feb, 2023\n",
      "release_date                                             Feb 03 2023\n",
      "run_time                                                         101\n",
      "storyline          Follows\\r\\n a New York City family hiding out ...\n",
      "title                                           Who Invited Charlie?\n",
      "views                                                           1676\n",
      "writer                                               Nicholas Schutt\n",
      "Name: 39, dtype: object\n",
      "Unnamed: 0                                                        28\n",
      "IMDb-rating                                                      6.6\n",
      "appropriate_for                                                TV-14\n",
      "director                                                Simone Stock\n",
      "downloads                                                        760\n",
      "id                                                            371877\n",
      "industry                                         Hollywood / English\n",
      "language                                                     English\n",
      "posted_date                                             15 Feb, 2023\n",
      "release_date                                             Feb 11 2023\n",
      "run_time                                                          88\n",
      "storyline          It follows Kara Robinson as she survives an ab...\n",
      "title                  The Girl Who Escaped: The Kara Robinson Story\n",
      "views                                                           7430\n",
      "writer                                                  Haley Harris\n",
      "Name: 27, dtype: object\n",
      "Unnamed: 0                                                        14\n",
      "IMDb-rating                                                      7.1\n",
      "appropriate_for                                                    R\n",
      "director                                            Elegance Bratton\n",
      "downloads                                                        463\n",
      "id                                                            371991\n",
      "industry                                         Hollywood / English\n",
      "language                                                     English\n",
      "posted_date                                             17 Feb, 2023\n",
      "release_date                                             Dec 02 2022\n",
      "run_time                                                          95\n",
      "storyline          A\\r\\n young, gay Black man, rejected by his mo...\n",
      "title                                                 The Inspection\n",
      "views                                                           5763\n",
      "writer                                              Elegance Bratton\n",
      "Name: 13, dtype: object\n",
      "Unnamed: 0                                                        60\n",
      "IMDb-rating                                                      5.5\n",
      "appropriate_for                                              Unrated\n",
      "director                                               Nadira Amrani\n",
      "downloads                                                        378\n",
      "id                                                            371671\n",
      "industry                                         Hollywood / English\n",
      "language                                                     English\n",
      "posted_date                                             10 Feb, 2023\n",
      "release_date                                             Feb 07 2023\n",
      "run_time                                                         NaN\n",
      "storyline          Bold\\r\\n and authentic drama set at an elite s...\n",
      "title                                                        Consent\n",
      "views                                                           4266\n",
      "writer                                           Emma Dennis-Edwards\n",
      "Name: 53, dtype: object\n",
      "Unnamed: 0                               55\n",
      "IMDb-rating                             NaN\n",
      "appropriate_for                     Unrated\n",
      "director                                NaN\n",
      "downloads                             1,781\n",
      "id                                   371740\n",
      "industry                          Wrestling\n",
      "language                            English\n",
      "posted_date                    13 Feb, 2023\n",
      "release_date                    Feb 10 2023\n",
      "run_time                                NaN\n",
      "storyline                               NaN\n",
      "title              WWE Smackdown 2023-02-10\n",
      "views                                  4736\n",
      "writer                                  NaN\n",
      "Name: 48, dtype: object\n",
      "Unnamed: 0                                                        22\n",
      "IMDb-rating                                                        5\n",
      "appropriate_for                                              Unrated\n",
      "director                                             Lindsay Hartley\n",
      "downloads                                                        465\n",
      "id                                                            371936\n",
      "industry                                         Hollywood / English\n",
      "language                                                     English\n",
      "posted_date                                             16 Feb, 2023\n",
      "release_date                                             Jan 29 2023\n",
      "run_time                                                         NaN\n",
      "storyline          When\\r\\n a woman is attacked in her short term...\n",
      "title                                        Vacation Home Nightmare\n",
      "views                                                           5723\n",
      "writer                                                 John F. Hayes\n",
      "Name: 20, dtype: object\n",
      "Unnamed: 0                                                         0\n",
      "IMDb-rating                                                      4.8\n",
      "appropriate_for                                                    R\n",
      "director                                                   John Swab\n",
      "downloads                                                        304\n",
      "id                                                            372092\n",
      "industry                                         Hollywood / English\n",
      "language                                                     English\n",
      "posted_date                                             20 Feb, 2023\n",
      "release_date                                             Jan 28 2023\n",
      "run_time                                                         105\n",
      "storyline          Doc\\r\\n facilitates a fragile truce between th...\n",
      "title                                                   Little Dixie\n",
      "views                                                           2794\n",
      "writer                                                     John Swab\n",
      "Name: 0, dtype: object\n",
      "Unnamed: 0                                                        42\n",
      "IMDb-rating                                                      5.7\n",
      "appropriate_for                                                PG-13\n",
      "director                                         Aline Brosh McKenna\n",
      "downloads                                                      2,712\n",
      "id                                                            371760\n",
      "industry                                         Hollywood / English\n",
      "language                                               English,Hindi\n",
      "posted_date                                             13 Feb, 2023\n",
      "release_date                                             Feb 10 2023\n",
      "run_time                                                         109\n",
      "storyline          Two\\r\\n long-distance best friends change each...\n",
      "title                                             Your Place or Mine\n",
      "views                                                          14638\n",
      "writer                                           Aline Brosh McKenna\n",
      "Name: 34, dtype: object\n",
      "Unnamed: 0                                                        19\n",
      "IMDb-rating                                                      4.7\n",
      "appropriate_for                                              Unrated\n",
      "director                                                 Sean Lahiff\n",
      "downloads                                                      1,453\n",
      "id                                                            371943\n",
      "industry                                         Hollywood / English\n",
      "language                                                     English\n",
      "posted_date                                             16 Feb, 2023\n",
      "release_date                                             Dec 01 2022\n",
      "run_time                                                          93\n",
      "storyline          An\\r\\n aspiring documentarian and two conserva...\n",
      "title                                                       Carnifex\n",
      "views                                                          11626\n",
      "writer                                                Shanti Gudgeon\n",
      "Name: 16, dtype: object\n",
      "Unnamed: 0                                                        29\n",
      "IMDb-rating                                                      6.1\n",
      "appropriate_for                                                    R\n",
      "director                                                 Neil Jordan\n",
      "downloads                                                        283\n",
      "id                                                            371876\n",
      "industry                                         Hollywood / English\n",
      "language                                                     English\n",
      "posted_date                                             15 Feb, 2023\n",
      "release_date                                             Feb 15 2023\n",
      "run_time                                                         110\n",
      "storyline          In late 1930's Bay City, a brooding, down on h...\n",
      "title                                                        Marlowe\n",
      "views                                                           3044\n",
      "writer              William Monahan, John Banville, Raymond Chandler\n",
      "Name: 23, dtype: object\n"
     ]
    },
    {
     "name": "stdout",
     "output_type": "stream",
     "text": [
      "Unnamed: 0                                                        11\n",
      "IMDb-rating                                                        9\n",
      "appropriate_for                                              Unrated\n",
      "director                                                Rohit Dhawan\n",
      "downloads                                                     12,954\n",
      "id                                                            372039\n",
      "industry                                          Bollywood / Indian\n",
      "language                                                       Hindi\n",
      "posted_date                                             18 Feb, 2023\n",
      "release_date                                             Feb 17 2023\n",
      "run_time                                                         142\n",
      "storyline          Bantu\\r\\n is hated by his father Valmiki since...\n",
      "title                                                       Shehzada\n",
      "views                                                          35831\n",
      "writer               Hussain Dalal, Rohit Dhawan, Trivikram Srinivas\n",
      "Name: 9, dtype: object\n",
      "Unnamed: 0                                                        43\n",
      "IMDb-rating                                                        5\n",
      "appropriate_for                                              Unrated\n",
      "director                                                   Bess Wohl\n",
      "downloads                                                        622\n",
      "id                                                            371674\n",
      "industry                                         Hollywood / English\n",
      "language                                                     English\n",
      "posted_date                                             10 Feb, 2023\n",
      "release_date                                             Feb 03 2023\n",
      "run_time                                                          93\n",
      "storyline          The\\r\\n tightly scripted world of a vlogger an...\n",
      "title                                                      Baby Ruby\n",
      "views                                                           9097\n",
      "writer                                                     Bess Wohl\n",
      "Name: 28, dtype: object\n",
      "Unnamed: 0                         44\n",
      "IMDb-rating                       NaN\n",
      "appropriate_for               Unrated\n",
      "director                          NaN\n",
      "downloads                       2,609\n",
      "id                             371816\n",
      "industry                    Wrestling\n",
      "language                      English\n",
      "posted_date              14 Feb, 2023\n",
      "release_date              Feb 13 2023\n",
      "run_time                          NaN\n",
      "storyline                         NaN\n",
      "title              WWE Raw 2023-02-13\n",
      "views                            6605\n",
      "writer                            NaN\n",
      "Name: 28, dtype: object\n",
      "Unnamed: 0                            63\n",
      "IMDb-rating                          NaN\n",
      "appropriate_for                  Unrated\n",
      "director                             NaN\n",
      "downloads                            309\n",
      "id                                371669\n",
      "industry                       Wrestling\n",
      "language                         English\n",
      "posted_date                 10 Feb, 2023\n",
      "release_date                 Feb 09 2023\n",
      "run_time                             NaN\n",
      "storyline                            NaN\n",
      "title              TNA.Impact 2023-02-09\n",
      "views                               1337\n",
      "writer                               NaN\n",
      "Name: 41, dtype: object\n"
     ]
    }
   ],
   "source": [
    "for i in duplicate_titles:\n",
    "    data = fix_duplicates(i,data)"
   ]
  },
  {
   "cell_type": "markdown",
   "metadata": {
    "id": "sVqxcqGSBhRK"
   },
   "source": [
    "**Printing the data after fixing the duplicates**\n",
    "\n",
    "---\n",
    "\n"
   ]
  },
  {
   "cell_type": "code",
   "execution_count": 17,
   "metadata": {
    "colab": {
     "base_uri": "https://localhost:8080/",
     "height": 918
    },
    "id": "TMFXN9dQOIOv",
    "outputId": "615a3171-97d7-4e92-c3f9-b061eec784db"
   },
   "outputs": [
    {
     "data": {
      "text/html": [
       "<div>\n",
       "<style scoped>\n",
       "    .dataframe tbody tr th:only-of-type {\n",
       "        vertical-align: middle;\n",
       "    }\n",
       "\n",
       "    .dataframe tbody tr th {\n",
       "        vertical-align: top;\n",
       "    }\n",
       "\n",
       "    .dataframe thead th {\n",
       "        text-align: right;\n",
       "    }\n",
       "</style>\n",
       "<table border=\"1\" class=\"dataframe\">\n",
       "  <thead>\n",
       "    <tr style=\"text-align: right;\">\n",
       "      <th></th>\n",
       "      <th>Unnamed: 0</th>\n",
       "      <th>IMDb-rating</th>\n",
       "      <th>appropriate_for</th>\n",
       "      <th>director</th>\n",
       "      <th>downloads</th>\n",
       "      <th>id</th>\n",
       "      <th>industry</th>\n",
       "      <th>language</th>\n",
       "      <th>posted_date</th>\n",
       "      <th>release_date</th>\n",
       "      <th>run_time</th>\n",
       "      <th>storyline</th>\n",
       "      <th>title</th>\n",
       "      <th>views</th>\n",
       "      <th>writer</th>\n",
       "    </tr>\n",
       "  </thead>\n",
       "  <tbody>\n",
       "    <tr>\n",
       "      <th>0</th>\n",
       "      <td>1</td>\n",
       "      <td>6.4</td>\n",
       "      <td>TV-PG</td>\n",
       "      <td>Paul Ziller</td>\n",
       "      <td>73</td>\n",
       "      <td>372091</td>\n",
       "      <td>Hollywood / English</td>\n",
       "      <td>English</td>\n",
       "      <td>20 Feb, 2023</td>\n",
       "      <td>Feb 05 2023</td>\n",
       "      <td>84</td>\n",
       "      <td>Caterer\\r\\n Goldy Berry reunites with detectiv...</td>\n",
       "      <td>Grilling Season: A Curious Caterer Mystery</td>\n",
       "      <td>1002</td>\n",
       "      <td>John Christian Plummer</td>\n",
       "    </tr>\n",
       "    <tr>\n",
       "      <th>1</th>\n",
       "      <td>2</td>\n",
       "      <td>5.2</td>\n",
       "      <td>R</td>\n",
       "      <td>Ben Wheatley</td>\n",
       "      <td>1,427</td>\n",
       "      <td>343381</td>\n",
       "      <td>Hollywood / English</td>\n",
       "      <td>English,Hindi</td>\n",
       "      <td>20 Apr, 2021</td>\n",
       "      <td>Jun 18 2021</td>\n",
       "      <td>1h 47min</td>\n",
       "      <td>As the world searches for a cure to a disastro...</td>\n",
       "      <td>In the Earth</td>\n",
       "      <td>14419</td>\n",
       "      <td>Ben Wheatley</td>\n",
       "    </tr>\n",
       "    <tr>\n",
       "      <th>2</th>\n",
       "      <td>4</td>\n",
       "      <td>4.6</td>\n",
       "      <td>Unrated</td>\n",
       "      <td>Shaji Kailas</td>\n",
       "      <td>657</td>\n",
       "      <td>372089</td>\n",
       "      <td>Tollywood</td>\n",
       "      <td>Hindi</td>\n",
       "      <td>20 Feb, 2023</td>\n",
       "      <td>Jan 26 2023</td>\n",
       "      <td>122</td>\n",
       "      <td>A man named Kalidas gets stranded due to the p...</td>\n",
       "      <td>Alone</td>\n",
       "      <td>2438</td>\n",
       "      <td>Rajesh Jayaraman</td>\n",
       "    </tr>\n",
       "    <tr>\n",
       "      <th>3</th>\n",
       "      <td>5</td>\n",
       "      <td>5.4</td>\n",
       "      <td>Unrated</td>\n",
       "      <td>Srinivas Gavireddy</td>\n",
       "      <td>746</td>\n",
       "      <td>372088</td>\n",
       "      <td>Tollywood</td>\n",
       "      <td>Hindi</td>\n",
       "      <td>20 Feb, 2023</td>\n",
       "      <td>Nov 26 2021</td>\n",
       "      <td>131</td>\n",
       "      <td>Bagaram,\\r\\n after inheriting his grandfather'...</td>\n",
       "      <td>Anubhavinchu Raja</td>\n",
       "      <td>2940</td>\n",
       "      <td>Srinivas Gavireddy, Mayukh Adithya</td>\n",
       "    </tr>\n",
       "    <tr>\n",
       "      <th>4</th>\n",
       "      <td>6</td>\n",
       "      <td>NaN</td>\n",
       "      <td>TV-PG</td>\n",
       "      <td>NaN</td>\n",
       "      <td>5,332</td>\n",
       "      <td>372059</td>\n",
       "      <td>Wrestling</td>\n",
       "      <td>English</td>\n",
       "      <td>19 Feb, 2023</td>\n",
       "      <td>Feb 18 2023</td>\n",
       "      <td>200</td>\n",
       "      <td>Undisputed\\r\\n WWE Universal title: Reigns vs ...</td>\n",
       "      <td>WWE Elimination Chamber</td>\n",
       "      <td>11978</td>\n",
       "      <td>NaN</td>\n",
       "    </tr>\n",
       "    <tr>\n",
       "      <th>...</th>\n",
       "      <td>...</td>\n",
       "      <td>...</td>\n",
       "      <td>...</td>\n",
       "      <td>...</td>\n",
       "      <td>...</td>\n",
       "      <td>...</td>\n",
       "      <td>...</td>\n",
       "      <td>...</td>\n",
       "      <td>...</td>\n",
       "      <td>...</td>\n",
       "      <td>...</td>\n",
       "      <td>...</td>\n",
       "      <td>...</td>\n",
       "      <td>...</td>\n",
       "      <td>...</td>\n",
       "    </tr>\n",
       "    <tr>\n",
       "      <th>17181</th>\n",
       "      <td>29</td>\n",
       "      <td>6.1</td>\n",
       "      <td>R</td>\n",
       "      <td>Neil Jordan</td>\n",
       "      <td>283</td>\n",
       "      <td>371876</td>\n",
       "      <td>Hollywood / English</td>\n",
       "      <td>English</td>\n",
       "      <td>15 Feb, 2023</td>\n",
       "      <td>Feb 15 2023</td>\n",
       "      <td>110</td>\n",
       "      <td>In late 1930's Bay City, a brooding, down on h...</td>\n",
       "      <td>Marlowe</td>\n",
       "      <td>3149</td>\n",
       "      <td>William Monahan, John Banville, Raymond Chandler</td>\n",
       "    </tr>\n",
       "    <tr>\n",
       "      <th>17182</th>\n",
       "      <td>11</td>\n",
       "      <td>9.0</td>\n",
       "      <td>Unrated</td>\n",
       "      <td>Rohit Dhawan</td>\n",
       "      <td>12,954</td>\n",
       "      <td>372039</td>\n",
       "      <td>Bollywood / Indian</td>\n",
       "      <td>Hindi</td>\n",
       "      <td>18 Feb, 2023</td>\n",
       "      <td>Feb 17 2023</td>\n",
       "      <td>142</td>\n",
       "      <td>Bantu\\r\\n is hated by his father Valmiki since...</td>\n",
       "      <td>Shehzada</td>\n",
       "      <td>36237</td>\n",
       "      <td>Hussain Dalal, Rohit Dhawan, Trivikram Srinivas</td>\n",
       "    </tr>\n",
       "    <tr>\n",
       "      <th>17183</th>\n",
       "      <td>43</td>\n",
       "      <td>5.0</td>\n",
       "      <td>Unrated</td>\n",
       "      <td>Bess Wohl</td>\n",
       "      <td>622</td>\n",
       "      <td>371674</td>\n",
       "      <td>Hollywood / English</td>\n",
       "      <td>English</td>\n",
       "      <td>10 Feb, 2023</td>\n",
       "      <td>Feb 03 2023</td>\n",
       "      <td>93</td>\n",
       "      <td>The\\r\\n tightly scripted world of a vlogger an...</td>\n",
       "      <td>Baby Ruby</td>\n",
       "      <td>9201</td>\n",
       "      <td>Bess Wohl</td>\n",
       "    </tr>\n",
       "    <tr>\n",
       "      <th>17184</th>\n",
       "      <td>44</td>\n",
       "      <td>NaN</td>\n",
       "      <td>Unrated</td>\n",
       "      <td>NaN</td>\n",
       "      <td>2,609</td>\n",
       "      <td>371816</td>\n",
       "      <td>Wrestling</td>\n",
       "      <td>English</td>\n",
       "      <td>14 Feb, 2023</td>\n",
       "      <td>Feb 13 2023</td>\n",
       "      <td>NaN</td>\n",
       "      <td>NaN</td>\n",
       "      <td>WWE Raw 2023-02-13</td>\n",
       "      <td>6658</td>\n",
       "      <td>NaN</td>\n",
       "    </tr>\n",
       "    <tr>\n",
       "      <th>17185</th>\n",
       "      <td>63</td>\n",
       "      <td>NaN</td>\n",
       "      <td>Unrated</td>\n",
       "      <td>NaN</td>\n",
       "      <td>309</td>\n",
       "      <td>371669</td>\n",
       "      <td>Wrestling</td>\n",
       "      <td>English</td>\n",
       "      <td>10 Feb, 2023</td>\n",
       "      <td>Feb 09 2023</td>\n",
       "      <td>NaN</td>\n",
       "      <td>NaN</td>\n",
       "      <td>TNA.Impact 2023-02-09</td>\n",
       "      <td>1380</td>\n",
       "      <td>NaN</td>\n",
       "    </tr>\n",
       "  </tbody>\n",
       "</table>\n",
       "<p>17186 rows × 15 columns</p>\n",
       "</div>"
      ],
      "text/plain": [
       "       Unnamed: 0  IMDb-rating appropriate_for            director downloads  \\\n",
       "0               1          6.4           TV-PG         Paul Ziller        73   \n",
       "1               2          5.2               R        Ben Wheatley     1,427   \n",
       "2               4          4.6         Unrated        Shaji Kailas       657   \n",
       "3               5          5.4         Unrated  Srinivas Gavireddy       746   \n",
       "4               6          NaN           TV-PG                 NaN     5,332   \n",
       "...           ...          ...             ...                 ...       ...   \n",
       "17181          29          6.1               R         Neil Jordan       283   \n",
       "17182          11          9.0         Unrated        Rohit Dhawan    12,954   \n",
       "17183          43          5.0         Unrated           Bess Wohl       622   \n",
       "17184          44          NaN         Unrated                 NaN     2,609   \n",
       "17185          63          NaN         Unrated                 NaN       309   \n",
       "\n",
       "           id             industry       language   posted_date release_date  \\\n",
       "0      372091  Hollywood / English        English  20 Feb, 2023  Feb 05 2023   \n",
       "1      343381  Hollywood / English  English,Hindi  20 Apr, 2021  Jun 18 2021   \n",
       "2      372089            Tollywood          Hindi  20 Feb, 2023  Jan 26 2023   \n",
       "3      372088            Tollywood          Hindi  20 Feb, 2023  Nov 26 2021   \n",
       "4      372059            Wrestling        English  19 Feb, 2023  Feb 18 2023   \n",
       "...       ...                  ...            ...           ...          ...   \n",
       "17181  371876  Hollywood / English        English  15 Feb, 2023  Feb 15 2023   \n",
       "17182  372039   Bollywood / Indian          Hindi  18 Feb, 2023  Feb 17 2023   \n",
       "17183  371674  Hollywood / English        English  10 Feb, 2023  Feb 03 2023   \n",
       "17184  371816            Wrestling        English  14 Feb, 2023  Feb 13 2023   \n",
       "17185  371669            Wrestling        English  10 Feb, 2023  Feb 09 2023   \n",
       "\n",
       "       run_time                                          storyline  \\\n",
       "0            84  Caterer\\r\\n Goldy Berry reunites with detectiv...   \n",
       "1      1h 47min  As the world searches for a cure to a disastro...   \n",
       "2           122  A man named Kalidas gets stranded due to the p...   \n",
       "3           131  Bagaram,\\r\\n after inheriting his grandfather'...   \n",
       "4           200  Undisputed\\r\\n WWE Universal title: Reigns vs ...   \n",
       "...         ...                                                ...   \n",
       "17181       110  In late 1930's Bay City, a brooding, down on h...   \n",
       "17182       142  Bantu\\r\\n is hated by his father Valmiki since...   \n",
       "17183        93  The\\r\\n tightly scripted world of a vlogger an...   \n",
       "17184       NaN                                                NaN   \n",
       "17185       NaN                                                NaN   \n",
       "\n",
       "                                            title  views  \\\n",
       "0      Grilling Season: A Curious Caterer Mystery   1002   \n",
       "1                                    In the Earth  14419   \n",
       "2                                           Alone   2438   \n",
       "3                               Anubhavinchu Raja   2940   \n",
       "4                         WWE Elimination Chamber  11978   \n",
       "...                                           ...    ...   \n",
       "17181                                     Marlowe   3149   \n",
       "17182                                    Shehzada  36237   \n",
       "17183                                   Baby Ruby   9201   \n",
       "17184                          WWE Raw 2023-02-13   6658   \n",
       "17185                       TNA.Impact 2023-02-09   1380   \n",
       "\n",
       "                                                 writer  \n",
       "0                                John Christian Plummer  \n",
       "1                                          Ben Wheatley  \n",
       "2                                      Rajesh Jayaraman  \n",
       "3                    Srinivas Gavireddy, Mayukh Adithya  \n",
       "4                                                   NaN  \n",
       "...                                                 ...  \n",
       "17181  William Monahan, John Banville, Raymond Chandler  \n",
       "17182   Hussain Dalal, Rohit Dhawan, Trivikram Srinivas  \n",
       "17183                                         Bess Wohl  \n",
       "17184                                               NaN  \n",
       "17185                                               NaN  \n",
       "\n",
       "[17186 rows x 15 columns]"
      ]
     },
     "execution_count": 17,
     "metadata": {},
     "output_type": "execute_result"
    }
   ],
   "source": [
    "data"
   ]
  },
  {
   "cell_type": "markdown",
   "metadata": {
    "id": "b573qutZBov2"
   },
   "source": [
    "**Check the Dimension of data**\n",
    "\n",
    "---\n",
    "\n"
   ]
  },
  {
   "cell_type": "code",
   "execution_count": 18,
   "metadata": {
    "colab": {
     "base_uri": "https://localhost:8080/"
    },
    "id": "UAqH9p5QOPmt",
    "outputId": "64511929-31c2-404b-eb06-37b44da98fd9"
   },
   "outputs": [
    {
     "data": {
      "text/plain": [
       "(17186, 15)"
      ]
     },
     "execution_count": 18,
     "metadata": {},
     "output_type": "execute_result"
    }
   ],
   "source": [
    "data.shape"
   ]
  },
  {
   "cell_type": "markdown",
   "metadata": {
    "id": "ETyOeAi5CC8p"
   },
   "source": [
    "**Converting String runtime to integer format**\n",
    "\n",
    "---\n",
    "\n"
   ]
  },
  {
   "cell_type": "code",
   "execution_count": 19,
   "metadata": {
    "id": "1S6Re68z35xP"
   },
   "outputs": [],
   "source": [
    "import re\n",
    "def runtime_conversion(runtime):\n",
    "    if runtime.isdigit():\n",
    "        return int(runtime)\n",
    "    else:\n",
    "        # Define regex to extract numerical values\n",
    "        hr_pattern = re.compile(r'(\\d+)\\s*(h|hr|hour)s?')\n",
    "        min_pattern = re.compile(r'(\\d+)\\s*(m|min)')\n",
    "\n",
    "        # Extracting numerical values from the input string\n",
    "        hrs = 0\n",
    "        mins = 0\n",
    "        match = hr_pattern.search(runtime)\n",
    "        if match:\n",
    "            hrs = int(match.group(1))\n",
    "        match = min_pattern.search(runtime)\n",
    "        if match:\n",
    "            mins = int(match.group(1))\n",
    "\n",
    "        # Convert hours to minutes and return the total runtime in minutes\n",
    "        return hrs * 60 + mins"
   ]
  },
  {
   "cell_type": "markdown",
   "metadata": {
    "id": "XBmyMHFaB6jg"
   },
   "source": [
    "**Explanation of above code**\n",
    "\n",
    "This code defines a function called \"runtime_conversion\" which converts the movie runtime from a string format to an integer format.\n",
    "\n",
    "If the runtime is already in a digit format, the function directly converts it into an integer and returns it.\n",
    "\n",
    "If the runtime is not in digit format, it uses regular expressions to extract numerical values from the string input. It searches for patterns of hours and minutes using the \"hr_pattern\" and \"min_pattern\" regex patterns, respectively. It extracts the numerical values of hours and minutes from the string using these regex patterns.\n",
    "\n",
    "It then converts the hours to minutes and adds it to the minutes value to get the total runtime in minutes. Finally, the function returns the total runtime in minutes as an integer value."
   ]
  },
  {
   "cell_type": "markdown",
   "metadata": {
    "id": "bOjCb6KjCMvO"
   },
   "source": [
    "**Replaced the NaN values with the average run time of movies**\n",
    "\n",
    "---\n",
    "\n"
   ]
  },
  {
   "cell_type": "code",
   "execution_count": 20,
   "metadata": {
    "id": "f1qRBZJu35uV"
   },
   "outputs": [],
   "source": [
    "data['run_time'] = data['run_time'].fillna('90')"
   ]
  },
  {
   "cell_type": "markdown",
   "metadata": {
    "id": "p8ILigNhCRpX"
   },
   "source": [
    "**Convert all the values of run_time to a standard int format**\n",
    "\n",
    "---\n",
    "\n"
   ]
  },
  {
   "cell_type": "code",
   "execution_count": 21,
   "metadata": {
    "id": "kKYWxW5H35q9"
   },
   "outputs": [],
   "source": [
    "data['run_time'] = data['run_time'].apply(runtime_conversion)"
   ]
  },
  {
   "cell_type": "markdown",
   "metadata": {
    "id": "eZvQaQkvCVu_"
   },
   "source": [
    "**dropped industry with null value**\n",
    "\n",
    "---\n",
    "\n"
   ]
  },
  {
   "cell_type": "code",
   "execution_count": 22,
   "metadata": {
    "id": "VDircA2d35pY"
   },
   "outputs": [],
   "source": [
    "data=data.drop(data[data['id']==371111].index, axis=0)"
   ]
  },
  {
   "cell_type": "markdown",
   "metadata": {
    "id": "I7mVvhKeCbn7"
   },
   "source": [
    "**Dropping the columns director, storyline, writer as we don't require them**\n",
    "\n",
    "---\n",
    "\n"
   ]
  },
  {
   "cell_type": "code",
   "execution_count": 23,
   "metadata": {
    "id": "XSY9jdWd40Ib"
   },
   "outputs": [],
   "source": [
    "data_cleaned = data.drop(['director', 'writer','storyline'], axis=1)"
   ]
  },
  {
   "cell_type": "markdown",
   "metadata": {
    "id": "zfnewxbtC05A"
   },
   "source": [
    "**Convert string dates into datetime objects**\n",
    "\n",
    "---\n",
    "\n"
   ]
  },
  {
   "cell_type": "code",
   "execution_count": 24,
   "metadata": {
    "id": "cP7gYW3mOXfR"
   },
   "outputs": [],
   "source": [
    "from datetime import datetime\n",
    "def conv_posted_date(v):\n",
    "    format_1 = '%d %b, %Y'\n",
    "    date = datetime.strptime(v,format_1)\n",
    "    return date\n",
    "def conv_release_date(v):\n",
    "    format_1 = '%b %d %Y'\n",
    "    date = datetime.strptime(v,format_1)\n",
    "    return date"
   ]
  },
  {
   "cell_type": "markdown",
   "metadata": {
    "id": "c4i7QWSMDA_9"
   },
   "source": [
    "**conv_posted_date:** This function takes a string input of the form \"dd mmm, yyyy\" (e.g., \"22 Mar, 2020\") and converts it into a datetime object.\n",
    "\n",
    "**conv_release_date:** This function takes a string input of the form \"mmm dd yyyy\" (e.g., \"Mar 22 2020\") and converts it into a datetime object."
   ]
  },
  {
   "cell_type": "markdown",
   "metadata": {
    "id": "EI7J0O5QDUnY"
   },
   "source": [
    "**Applying the above functions in the data_cleaned and then printing it**\n",
    "\n",
    "---\n",
    "\n"
   ]
  },
  {
   "cell_type": "code",
   "execution_count": 25,
   "metadata": {
    "colab": {
     "base_uri": "https://localhost:8080/",
     "height": 423
    },
    "id": "qyrJcFLo3xZS",
    "outputId": "3b004ca4-6c35-4e67-af41-6f626e48430e"
   },
   "outputs": [
    {
     "data": {
      "text/html": [
       "<div>\n",
       "<style scoped>\n",
       "    .dataframe tbody tr th:only-of-type {\n",
       "        vertical-align: middle;\n",
       "    }\n",
       "\n",
       "    .dataframe tbody tr th {\n",
       "        vertical-align: top;\n",
       "    }\n",
       "\n",
       "    .dataframe thead th {\n",
       "        text-align: right;\n",
       "    }\n",
       "</style>\n",
       "<table border=\"1\" class=\"dataframe\">\n",
       "  <thead>\n",
       "    <tr style=\"text-align: right;\">\n",
       "      <th></th>\n",
       "      <th>Unnamed: 0</th>\n",
       "      <th>IMDb-rating</th>\n",
       "      <th>appropriate_for</th>\n",
       "      <th>downloads</th>\n",
       "      <th>id</th>\n",
       "      <th>industry</th>\n",
       "      <th>language</th>\n",
       "      <th>posted_date</th>\n",
       "      <th>release_date</th>\n",
       "      <th>run_time</th>\n",
       "      <th>title</th>\n",
       "      <th>views</th>\n",
       "    </tr>\n",
       "  </thead>\n",
       "  <tbody>\n",
       "    <tr>\n",
       "      <th>0</th>\n",
       "      <td>1</td>\n",
       "      <td>6.4</td>\n",
       "      <td>TV-PG</td>\n",
       "      <td>73</td>\n",
       "      <td>372091</td>\n",
       "      <td>Hollywood / English</td>\n",
       "      <td>English</td>\n",
       "      <td>2023-02-20</td>\n",
       "      <td>2023-02-05</td>\n",
       "      <td>84</td>\n",
       "      <td>Grilling Season: A Curious Caterer Mystery</td>\n",
       "      <td>1002</td>\n",
       "    </tr>\n",
       "    <tr>\n",
       "      <th>1</th>\n",
       "      <td>2</td>\n",
       "      <td>5.2</td>\n",
       "      <td>R</td>\n",
       "      <td>1,427</td>\n",
       "      <td>343381</td>\n",
       "      <td>Hollywood / English</td>\n",
       "      <td>English,Hindi</td>\n",
       "      <td>2021-04-20</td>\n",
       "      <td>2021-06-18</td>\n",
       "      <td>107</td>\n",
       "      <td>In the Earth</td>\n",
       "      <td>14419</td>\n",
       "    </tr>\n",
       "    <tr>\n",
       "      <th>2</th>\n",
       "      <td>4</td>\n",
       "      <td>4.6</td>\n",
       "      <td>Unrated</td>\n",
       "      <td>657</td>\n",
       "      <td>372089</td>\n",
       "      <td>Tollywood</td>\n",
       "      <td>Hindi</td>\n",
       "      <td>2023-02-20</td>\n",
       "      <td>2023-01-26</td>\n",
       "      <td>122</td>\n",
       "      <td>Alone</td>\n",
       "      <td>2438</td>\n",
       "    </tr>\n",
       "    <tr>\n",
       "      <th>3</th>\n",
       "      <td>5</td>\n",
       "      <td>5.4</td>\n",
       "      <td>Unrated</td>\n",
       "      <td>746</td>\n",
       "      <td>372088</td>\n",
       "      <td>Tollywood</td>\n",
       "      <td>Hindi</td>\n",
       "      <td>2023-02-20</td>\n",
       "      <td>2021-11-26</td>\n",
       "      <td>131</td>\n",
       "      <td>Anubhavinchu Raja</td>\n",
       "      <td>2940</td>\n",
       "    </tr>\n",
       "    <tr>\n",
       "      <th>4</th>\n",
       "      <td>6</td>\n",
       "      <td>NaN</td>\n",
       "      <td>TV-PG</td>\n",
       "      <td>5,332</td>\n",
       "      <td>372059</td>\n",
       "      <td>Wrestling</td>\n",
       "      <td>English</td>\n",
       "      <td>2023-02-19</td>\n",
       "      <td>2023-02-18</td>\n",
       "      <td>200</td>\n",
       "      <td>WWE Elimination Chamber</td>\n",
       "      <td>11978</td>\n",
       "    </tr>\n",
       "    <tr>\n",
       "      <th>...</th>\n",
       "      <td>...</td>\n",
       "      <td>...</td>\n",
       "      <td>...</td>\n",
       "      <td>...</td>\n",
       "      <td>...</td>\n",
       "      <td>...</td>\n",
       "      <td>...</td>\n",
       "      <td>...</td>\n",
       "      <td>...</td>\n",
       "      <td>...</td>\n",
       "      <td>...</td>\n",
       "      <td>...</td>\n",
       "    </tr>\n",
       "    <tr>\n",
       "      <th>17181</th>\n",
       "      <td>29</td>\n",
       "      <td>6.1</td>\n",
       "      <td>R</td>\n",
       "      <td>283</td>\n",
       "      <td>371876</td>\n",
       "      <td>Hollywood / English</td>\n",
       "      <td>English</td>\n",
       "      <td>2023-02-15</td>\n",
       "      <td>2023-02-15</td>\n",
       "      <td>110</td>\n",
       "      <td>Marlowe</td>\n",
       "      <td>3149</td>\n",
       "    </tr>\n",
       "    <tr>\n",
       "      <th>17182</th>\n",
       "      <td>11</td>\n",
       "      <td>9.0</td>\n",
       "      <td>Unrated</td>\n",
       "      <td>12,954</td>\n",
       "      <td>372039</td>\n",
       "      <td>Bollywood / Indian</td>\n",
       "      <td>Hindi</td>\n",
       "      <td>2023-02-18</td>\n",
       "      <td>2023-02-17</td>\n",
       "      <td>142</td>\n",
       "      <td>Shehzada</td>\n",
       "      <td>36237</td>\n",
       "    </tr>\n",
       "    <tr>\n",
       "      <th>17183</th>\n",
       "      <td>43</td>\n",
       "      <td>5.0</td>\n",
       "      <td>Unrated</td>\n",
       "      <td>622</td>\n",
       "      <td>371674</td>\n",
       "      <td>Hollywood / English</td>\n",
       "      <td>English</td>\n",
       "      <td>2023-02-10</td>\n",
       "      <td>2023-02-03</td>\n",
       "      <td>93</td>\n",
       "      <td>Baby Ruby</td>\n",
       "      <td>9201</td>\n",
       "    </tr>\n",
       "    <tr>\n",
       "      <th>17184</th>\n",
       "      <td>44</td>\n",
       "      <td>NaN</td>\n",
       "      <td>Unrated</td>\n",
       "      <td>2,609</td>\n",
       "      <td>371816</td>\n",
       "      <td>Wrestling</td>\n",
       "      <td>English</td>\n",
       "      <td>2023-02-14</td>\n",
       "      <td>2023-02-13</td>\n",
       "      <td>90</td>\n",
       "      <td>WWE Raw 2023-02-13</td>\n",
       "      <td>6658</td>\n",
       "    </tr>\n",
       "    <tr>\n",
       "      <th>17185</th>\n",
       "      <td>63</td>\n",
       "      <td>NaN</td>\n",
       "      <td>Unrated</td>\n",
       "      <td>309</td>\n",
       "      <td>371669</td>\n",
       "      <td>Wrestling</td>\n",
       "      <td>English</td>\n",
       "      <td>2023-02-10</td>\n",
       "      <td>2023-02-09</td>\n",
       "      <td>90</td>\n",
       "      <td>TNA.Impact 2023-02-09</td>\n",
       "      <td>1380</td>\n",
       "    </tr>\n",
       "  </tbody>\n",
       "</table>\n",
       "<p>17185 rows × 12 columns</p>\n",
       "</div>"
      ],
      "text/plain": [
       "       Unnamed: 0  IMDb-rating appropriate_for downloads      id  \\\n",
       "0               1          6.4           TV-PG        73  372091   \n",
       "1               2          5.2               R     1,427  343381   \n",
       "2               4          4.6         Unrated       657  372089   \n",
       "3               5          5.4         Unrated       746  372088   \n",
       "4               6          NaN           TV-PG     5,332  372059   \n",
       "...           ...          ...             ...       ...     ...   \n",
       "17181          29          6.1               R       283  371876   \n",
       "17182          11          9.0         Unrated    12,954  372039   \n",
       "17183          43          5.0         Unrated       622  371674   \n",
       "17184          44          NaN         Unrated     2,609  371816   \n",
       "17185          63          NaN         Unrated       309  371669   \n",
       "\n",
       "                  industry       language posted_date release_date  run_time  \\\n",
       "0      Hollywood / English        English  2023-02-20   2023-02-05        84   \n",
       "1      Hollywood / English  English,Hindi  2021-04-20   2021-06-18       107   \n",
       "2                Tollywood          Hindi  2023-02-20   2023-01-26       122   \n",
       "3                Tollywood          Hindi  2023-02-20   2021-11-26       131   \n",
       "4                Wrestling        English  2023-02-19   2023-02-18       200   \n",
       "...                    ...            ...         ...          ...       ...   \n",
       "17181  Hollywood / English        English  2023-02-15   2023-02-15       110   \n",
       "17182   Bollywood / Indian          Hindi  2023-02-18   2023-02-17       142   \n",
       "17183  Hollywood / English        English  2023-02-10   2023-02-03        93   \n",
       "17184            Wrestling        English  2023-02-14   2023-02-13        90   \n",
       "17185            Wrestling        English  2023-02-10   2023-02-09        90   \n",
       "\n",
       "                                            title  views  \n",
       "0      Grilling Season: A Curious Caterer Mystery   1002  \n",
       "1                                    In the Earth  14419  \n",
       "2                                           Alone   2438  \n",
       "3                               Anubhavinchu Raja   2940  \n",
       "4                         WWE Elimination Chamber  11978  \n",
       "...                                           ...    ...  \n",
       "17181                                     Marlowe   3149  \n",
       "17182                                    Shehzada  36237  \n",
       "17183                                   Baby Ruby   9201  \n",
       "17184                          WWE Raw 2023-02-13   6658  \n",
       "17185                       TNA.Impact 2023-02-09   1380  \n",
       "\n",
       "[17185 rows x 12 columns]"
      ]
     },
     "execution_count": 25,
     "metadata": {},
     "output_type": "execute_result"
    }
   ],
   "source": [
    "data_cleaned['posted_date'] = data_cleaned['posted_date'].apply(conv_posted_date)\n",
    "data_cleaned['release_date'] = data_cleaned['release_date'].apply(conv_release_date)\n",
    "data_cleaned"
   ]
  },
  {
   "cell_type": "markdown",
   "metadata": {
    "id": "zZQYkdz4EZAS"
   },
   "source": [
    "**Find the mode of the language column**\n",
    "\n",
    "---\n",
    "\n"
   ]
  },
  {
   "cell_type": "code",
   "execution_count": 26,
   "metadata": {
    "colab": {
     "base_uri": "https://localhost:8080/"
    },
    "id": "Qtqm0QJk5myQ",
    "outputId": "0030be01-3c36-43b3-a256-68257209e41b"
   },
   "outputs": [
    {
     "name": "stdout",
     "output_type": "stream",
     "text": [
      "English\n"
     ]
    }
   ],
   "source": [
    "from scipy import stats\n",
    "t=data_cleaned.mode()['language'][0]\n",
    "print(t)"
   ]
  },
  {
   "cell_type": "markdown",
   "metadata": {
    "id": "9yhZf894EXta"
   },
   "source": [
    "The above code uses the mode() function from the scipy.stats library to find the mode value. "
   ]
  },
  {
   "cell_type": "code",
   "execution_count": 27,
   "metadata": {
    "id": "jwArQK5i6iH4"
   },
   "outputs": [],
   "source": [
    "data_cleaned['language']=data_cleaned['language'].fillna('English')"
   ]
  },
  {
   "cell_type": "markdown",
   "metadata": {
    "id": "4tDBzzdOEuDx"
   },
   "source": [
    "This code fills the missing values in the 'language' column of the 'data_cleaned' DataFrame with the value 'English'."
   ]
  },
  {
   "cell_type": "markdown",
   "metadata": {
    "id": "slDAc02mExGK"
   },
   "source": [
    "**Print the data after the modifications**\n",
    "\n",
    "---\n",
    "\n"
   ]
  },
  {
   "cell_type": "code",
   "execution_count": 28,
   "metadata": {
    "colab": {
     "base_uri": "https://localhost:8080/",
     "height": 918
    },
    "id": "Cnbay3SE69t-",
    "outputId": "3d98daf4-6691-4cce-91c9-1f132b7af669"
   },
   "outputs": [
    {
     "data": {
      "text/html": [
       "<div>\n",
       "<style scoped>\n",
       "    .dataframe tbody tr th:only-of-type {\n",
       "        vertical-align: middle;\n",
       "    }\n",
       "\n",
       "    .dataframe tbody tr th {\n",
       "        vertical-align: top;\n",
       "    }\n",
       "\n",
       "    .dataframe thead th {\n",
       "        text-align: right;\n",
       "    }\n",
       "</style>\n",
       "<table border=\"1\" class=\"dataframe\">\n",
       "  <thead>\n",
       "    <tr style=\"text-align: right;\">\n",
       "      <th></th>\n",
       "      <th>Unnamed: 0</th>\n",
       "      <th>IMDb-rating</th>\n",
       "      <th>appropriate_for</th>\n",
       "      <th>director</th>\n",
       "      <th>downloads</th>\n",
       "      <th>id</th>\n",
       "      <th>industry</th>\n",
       "      <th>language</th>\n",
       "      <th>posted_date</th>\n",
       "      <th>release_date</th>\n",
       "      <th>run_time</th>\n",
       "      <th>storyline</th>\n",
       "      <th>title</th>\n",
       "      <th>views</th>\n",
       "      <th>writer</th>\n",
       "    </tr>\n",
       "  </thead>\n",
       "  <tbody>\n",
       "    <tr>\n",
       "      <th>0</th>\n",
       "      <td>1</td>\n",
       "      <td>6.4</td>\n",
       "      <td>TV-PG</td>\n",
       "      <td>Paul Ziller</td>\n",
       "      <td>73</td>\n",
       "      <td>372091</td>\n",
       "      <td>Hollywood / English</td>\n",
       "      <td>English</td>\n",
       "      <td>20 Feb, 2023</td>\n",
       "      <td>Feb 05 2023</td>\n",
       "      <td>84</td>\n",
       "      <td>Caterer\\r\\n Goldy Berry reunites with detectiv...</td>\n",
       "      <td>Grilling Season: A Curious Caterer Mystery</td>\n",
       "      <td>1002</td>\n",
       "      <td>John Christian Plummer</td>\n",
       "    </tr>\n",
       "    <tr>\n",
       "      <th>1</th>\n",
       "      <td>2</td>\n",
       "      <td>5.2</td>\n",
       "      <td>R</td>\n",
       "      <td>Ben Wheatley</td>\n",
       "      <td>1,427</td>\n",
       "      <td>343381</td>\n",
       "      <td>Hollywood / English</td>\n",
       "      <td>English,Hindi</td>\n",
       "      <td>20 Apr, 2021</td>\n",
       "      <td>Jun 18 2021</td>\n",
       "      <td>107</td>\n",
       "      <td>As the world searches for a cure to a disastro...</td>\n",
       "      <td>In the Earth</td>\n",
       "      <td>14419</td>\n",
       "      <td>Ben Wheatley</td>\n",
       "    </tr>\n",
       "    <tr>\n",
       "      <th>2</th>\n",
       "      <td>4</td>\n",
       "      <td>4.6</td>\n",
       "      <td>Unrated</td>\n",
       "      <td>Shaji Kailas</td>\n",
       "      <td>657</td>\n",
       "      <td>372089</td>\n",
       "      <td>Tollywood</td>\n",
       "      <td>Hindi</td>\n",
       "      <td>20 Feb, 2023</td>\n",
       "      <td>Jan 26 2023</td>\n",
       "      <td>122</td>\n",
       "      <td>A man named Kalidas gets stranded due to the p...</td>\n",
       "      <td>Alone</td>\n",
       "      <td>2438</td>\n",
       "      <td>Rajesh Jayaraman</td>\n",
       "    </tr>\n",
       "    <tr>\n",
       "      <th>3</th>\n",
       "      <td>5</td>\n",
       "      <td>5.4</td>\n",
       "      <td>Unrated</td>\n",
       "      <td>Srinivas Gavireddy</td>\n",
       "      <td>746</td>\n",
       "      <td>372088</td>\n",
       "      <td>Tollywood</td>\n",
       "      <td>Hindi</td>\n",
       "      <td>20 Feb, 2023</td>\n",
       "      <td>Nov 26 2021</td>\n",
       "      <td>131</td>\n",
       "      <td>Bagaram,\\r\\n after inheriting his grandfather'...</td>\n",
       "      <td>Anubhavinchu Raja</td>\n",
       "      <td>2940</td>\n",
       "      <td>Srinivas Gavireddy, Mayukh Adithya</td>\n",
       "    </tr>\n",
       "    <tr>\n",
       "      <th>4</th>\n",
       "      <td>6</td>\n",
       "      <td>NaN</td>\n",
       "      <td>TV-PG</td>\n",
       "      <td>NaN</td>\n",
       "      <td>5,332</td>\n",
       "      <td>372059</td>\n",
       "      <td>Wrestling</td>\n",
       "      <td>English</td>\n",
       "      <td>19 Feb, 2023</td>\n",
       "      <td>Feb 18 2023</td>\n",
       "      <td>200</td>\n",
       "      <td>Undisputed\\r\\n WWE Universal title: Reigns vs ...</td>\n",
       "      <td>WWE Elimination Chamber</td>\n",
       "      <td>11978</td>\n",
       "      <td>NaN</td>\n",
       "    </tr>\n",
       "    <tr>\n",
       "      <th>...</th>\n",
       "      <td>...</td>\n",
       "      <td>...</td>\n",
       "      <td>...</td>\n",
       "      <td>...</td>\n",
       "      <td>...</td>\n",
       "      <td>...</td>\n",
       "      <td>...</td>\n",
       "      <td>...</td>\n",
       "      <td>...</td>\n",
       "      <td>...</td>\n",
       "      <td>...</td>\n",
       "      <td>...</td>\n",
       "      <td>...</td>\n",
       "      <td>...</td>\n",
       "      <td>...</td>\n",
       "    </tr>\n",
       "    <tr>\n",
       "      <th>17181</th>\n",
       "      <td>29</td>\n",
       "      <td>6.1</td>\n",
       "      <td>R</td>\n",
       "      <td>Neil Jordan</td>\n",
       "      <td>283</td>\n",
       "      <td>371876</td>\n",
       "      <td>Hollywood / English</td>\n",
       "      <td>English</td>\n",
       "      <td>15 Feb, 2023</td>\n",
       "      <td>Feb 15 2023</td>\n",
       "      <td>110</td>\n",
       "      <td>In late 1930's Bay City, a brooding, down on h...</td>\n",
       "      <td>Marlowe</td>\n",
       "      <td>3149</td>\n",
       "      <td>William Monahan, John Banville, Raymond Chandler</td>\n",
       "    </tr>\n",
       "    <tr>\n",
       "      <th>17182</th>\n",
       "      <td>11</td>\n",
       "      <td>9.0</td>\n",
       "      <td>Unrated</td>\n",
       "      <td>Rohit Dhawan</td>\n",
       "      <td>12,954</td>\n",
       "      <td>372039</td>\n",
       "      <td>Bollywood / Indian</td>\n",
       "      <td>Hindi</td>\n",
       "      <td>18 Feb, 2023</td>\n",
       "      <td>Feb 17 2023</td>\n",
       "      <td>142</td>\n",
       "      <td>Bantu\\r\\n is hated by his father Valmiki since...</td>\n",
       "      <td>Shehzada</td>\n",
       "      <td>36237</td>\n",
       "      <td>Hussain Dalal, Rohit Dhawan, Trivikram Srinivas</td>\n",
       "    </tr>\n",
       "    <tr>\n",
       "      <th>17183</th>\n",
       "      <td>43</td>\n",
       "      <td>5.0</td>\n",
       "      <td>Unrated</td>\n",
       "      <td>Bess Wohl</td>\n",
       "      <td>622</td>\n",
       "      <td>371674</td>\n",
       "      <td>Hollywood / English</td>\n",
       "      <td>English</td>\n",
       "      <td>10 Feb, 2023</td>\n",
       "      <td>Feb 03 2023</td>\n",
       "      <td>93</td>\n",
       "      <td>The\\r\\n tightly scripted world of a vlogger an...</td>\n",
       "      <td>Baby Ruby</td>\n",
       "      <td>9201</td>\n",
       "      <td>Bess Wohl</td>\n",
       "    </tr>\n",
       "    <tr>\n",
       "      <th>17184</th>\n",
       "      <td>44</td>\n",
       "      <td>NaN</td>\n",
       "      <td>Unrated</td>\n",
       "      <td>NaN</td>\n",
       "      <td>2,609</td>\n",
       "      <td>371816</td>\n",
       "      <td>Wrestling</td>\n",
       "      <td>English</td>\n",
       "      <td>14 Feb, 2023</td>\n",
       "      <td>Feb 13 2023</td>\n",
       "      <td>90</td>\n",
       "      <td>NaN</td>\n",
       "      <td>WWE Raw 2023-02-13</td>\n",
       "      <td>6658</td>\n",
       "      <td>NaN</td>\n",
       "    </tr>\n",
       "    <tr>\n",
       "      <th>17185</th>\n",
       "      <td>63</td>\n",
       "      <td>NaN</td>\n",
       "      <td>Unrated</td>\n",
       "      <td>NaN</td>\n",
       "      <td>309</td>\n",
       "      <td>371669</td>\n",
       "      <td>Wrestling</td>\n",
       "      <td>English</td>\n",
       "      <td>10 Feb, 2023</td>\n",
       "      <td>Feb 09 2023</td>\n",
       "      <td>90</td>\n",
       "      <td>NaN</td>\n",
       "      <td>TNA.Impact 2023-02-09</td>\n",
       "      <td>1380</td>\n",
       "      <td>NaN</td>\n",
       "    </tr>\n",
       "  </tbody>\n",
       "</table>\n",
       "<p>17185 rows × 15 columns</p>\n",
       "</div>"
      ],
      "text/plain": [
       "       Unnamed: 0  IMDb-rating appropriate_for            director downloads  \\\n",
       "0               1          6.4           TV-PG         Paul Ziller        73   \n",
       "1               2          5.2               R        Ben Wheatley     1,427   \n",
       "2               4          4.6         Unrated        Shaji Kailas       657   \n",
       "3               5          5.4         Unrated  Srinivas Gavireddy       746   \n",
       "4               6          NaN           TV-PG                 NaN     5,332   \n",
       "...           ...          ...             ...                 ...       ...   \n",
       "17181          29          6.1               R         Neil Jordan       283   \n",
       "17182          11          9.0         Unrated        Rohit Dhawan    12,954   \n",
       "17183          43          5.0         Unrated           Bess Wohl       622   \n",
       "17184          44          NaN         Unrated                 NaN     2,609   \n",
       "17185          63          NaN         Unrated                 NaN       309   \n",
       "\n",
       "           id             industry       language   posted_date release_date  \\\n",
       "0      372091  Hollywood / English        English  20 Feb, 2023  Feb 05 2023   \n",
       "1      343381  Hollywood / English  English,Hindi  20 Apr, 2021  Jun 18 2021   \n",
       "2      372089            Tollywood          Hindi  20 Feb, 2023  Jan 26 2023   \n",
       "3      372088            Tollywood          Hindi  20 Feb, 2023  Nov 26 2021   \n",
       "4      372059            Wrestling        English  19 Feb, 2023  Feb 18 2023   \n",
       "...       ...                  ...            ...           ...          ...   \n",
       "17181  371876  Hollywood / English        English  15 Feb, 2023  Feb 15 2023   \n",
       "17182  372039   Bollywood / Indian          Hindi  18 Feb, 2023  Feb 17 2023   \n",
       "17183  371674  Hollywood / English        English  10 Feb, 2023  Feb 03 2023   \n",
       "17184  371816            Wrestling        English  14 Feb, 2023  Feb 13 2023   \n",
       "17185  371669            Wrestling        English  10 Feb, 2023  Feb 09 2023   \n",
       "\n",
       "       run_time                                          storyline  \\\n",
       "0            84  Caterer\\r\\n Goldy Berry reunites with detectiv...   \n",
       "1           107  As the world searches for a cure to a disastro...   \n",
       "2           122  A man named Kalidas gets stranded due to the p...   \n",
       "3           131  Bagaram,\\r\\n after inheriting his grandfather'...   \n",
       "4           200  Undisputed\\r\\n WWE Universal title: Reigns vs ...   \n",
       "...         ...                                                ...   \n",
       "17181       110  In late 1930's Bay City, a brooding, down on h...   \n",
       "17182       142  Bantu\\r\\n is hated by his father Valmiki since...   \n",
       "17183        93  The\\r\\n tightly scripted world of a vlogger an...   \n",
       "17184        90                                                NaN   \n",
       "17185        90                                                NaN   \n",
       "\n",
       "                                            title  views  \\\n",
       "0      Grilling Season: A Curious Caterer Mystery   1002   \n",
       "1                                    In the Earth  14419   \n",
       "2                                           Alone   2438   \n",
       "3                               Anubhavinchu Raja   2940   \n",
       "4                         WWE Elimination Chamber  11978   \n",
       "...                                           ...    ...   \n",
       "17181                                     Marlowe   3149   \n",
       "17182                                    Shehzada  36237   \n",
       "17183                                   Baby Ruby   9201   \n",
       "17184                          WWE Raw 2023-02-13   6658   \n",
       "17185                       TNA.Impact 2023-02-09   1380   \n",
       "\n",
       "                                                 writer  \n",
       "0                                John Christian Plummer  \n",
       "1                                          Ben Wheatley  \n",
       "2                                      Rajesh Jayaraman  \n",
       "3                    Srinivas Gavireddy, Mayukh Adithya  \n",
       "4                                                   NaN  \n",
       "...                                                 ...  \n",
       "17181  William Monahan, John Banville, Raymond Chandler  \n",
       "17182   Hussain Dalal, Rohit Dhawan, Trivikram Srinivas  \n",
       "17183                                         Bess Wohl  \n",
       "17184                                               NaN  \n",
       "17185                                               NaN  \n",
       "\n",
       "[17185 rows x 15 columns]"
      ]
     },
     "execution_count": 28,
     "metadata": {},
     "output_type": "execute_result"
    }
   ],
   "source": [
    "data"
   ]
  },
  {
   "cell_type": "markdown",
   "metadata": {
    "id": "XKkIkC4aE4w6"
   },
   "source": [
    "**Count missing values in data_cleaned after modifying data**\n",
    "\n",
    "---\n",
    "\n"
   ]
  },
  {
   "cell_type": "code",
   "execution_count": 29,
   "metadata": {
    "colab": {
     "base_uri": "https://localhost:8080/",
     "height": 425
    },
    "id": "36MX-FWW8ZRR",
    "outputId": "2ad54d0d-2652-4f0f-b118-82eaed07c605"
   },
   "outputs": [
    {
     "data": {
      "text/html": [
       "<div>\n",
       "<style scoped>\n",
       "    .dataframe tbody tr th:only-of-type {\n",
       "        vertical-align: middle;\n",
       "    }\n",
       "\n",
       "    .dataframe tbody tr th {\n",
       "        vertical-align: top;\n",
       "    }\n",
       "\n",
       "    .dataframe thead th {\n",
       "        text-align: right;\n",
       "    }\n",
       "</style>\n",
       "<table border=\"1\" class=\"dataframe\">\n",
       "  <thead>\n",
       "    <tr style=\"text-align: right;\">\n",
       "      <th></th>\n",
       "      <th>0</th>\n",
       "    </tr>\n",
       "  </thead>\n",
       "  <tbody>\n",
       "    <tr>\n",
       "      <th>Unnamed: 0</th>\n",
       "      <td>0</td>\n",
       "    </tr>\n",
       "    <tr>\n",
       "      <th>IMDb-rating</th>\n",
       "      <td>486</td>\n",
       "    </tr>\n",
       "    <tr>\n",
       "      <th>appropriate_for</th>\n",
       "      <td>0</td>\n",
       "    </tr>\n",
       "    <tr>\n",
       "      <th>downloads</th>\n",
       "      <td>0</td>\n",
       "    </tr>\n",
       "    <tr>\n",
       "      <th>id</th>\n",
       "      <td>0</td>\n",
       "    </tr>\n",
       "    <tr>\n",
       "      <th>industry</th>\n",
       "      <td>0</td>\n",
       "    </tr>\n",
       "    <tr>\n",
       "      <th>language</th>\n",
       "      <td>0</td>\n",
       "    </tr>\n",
       "    <tr>\n",
       "      <th>posted_date</th>\n",
       "      <td>0</td>\n",
       "    </tr>\n",
       "    <tr>\n",
       "      <th>release_date</th>\n",
       "      <td>0</td>\n",
       "    </tr>\n",
       "    <tr>\n",
       "      <th>run_time</th>\n",
       "      <td>0</td>\n",
       "    </tr>\n",
       "    <tr>\n",
       "      <th>title</th>\n",
       "      <td>0</td>\n",
       "    </tr>\n",
       "    <tr>\n",
       "      <th>views</th>\n",
       "      <td>0</td>\n",
       "    </tr>\n",
       "  </tbody>\n",
       "</table>\n",
       "</div>"
      ],
      "text/plain": [
       "                   0\n",
       "Unnamed: 0         0\n",
       "IMDb-rating      486\n",
       "appropriate_for    0\n",
       "downloads          0\n",
       "id                 0\n",
       "industry           0\n",
       "language           0\n",
       "posted_date        0\n",
       "release_date       0\n",
       "run_time           0\n",
       "title              0\n",
       "views              0"
      ]
     },
     "execution_count": 29,
     "metadata": {},
     "output_type": "execute_result"
    }
   ],
   "source": [
    "count_of_missing_values=data_cleaned.isna().sum()  \n",
    "pd.DataFrame(data_cleaned.isna().sum())  "
   ]
  },
  {
   "cell_type": "markdown",
   "metadata": {
    "id": "MH1z1f6LFEPH"
   },
   "source": [
    "Result : \n",
    "All collumns have 0 missing values except ImDb-rating"
   ]
  },
  {
   "cell_type": "markdown",
   "metadata": {
    "id": "akiHIL2izBAv"
   },
   "source": [
    "# Exploratory Data Analysis"
   ]
  },
  {
   "cell_type": "markdown",
   "metadata": {
    "id": "wEwbwo9b8xEE"
   },
   "source": [
    "## QUE : 1 What factors influence the number of downloads a movie receives? How much of an impact does the industry, language, or release date have on the number of downloads?"
   ]
  },
  {
   "cell_type": "markdown",
   "metadata": {
    "id": "BLSyp3OxFf4g"
   },
   "source": [
    "**Print datatypes of the variables in data_cleaned**\n",
    "\n",
    "---\n",
    "\n"
   ]
  },
  {
   "cell_type": "code",
   "execution_count": 30,
   "metadata": {
    "colab": {
     "base_uri": "https://localhost:8080/"
    },
    "id": "rJZvAWWjC0Nj",
    "outputId": "6addee90-395e-4eb6-c37f-779ff45a3ad4"
   },
   "outputs": [
    {
     "data": {
      "text/plain": [
       "Unnamed: 0                  int64\n",
       "IMDb-rating               float64\n",
       "appropriate_for            object\n",
       "downloads                  object\n",
       "id                          int64\n",
       "industry                   object\n",
       "language                   object\n",
       "posted_date        datetime64[ns]\n",
       "release_date       datetime64[ns]\n",
       "run_time                    int64\n",
       "title                      object\n",
       "views                       int64\n",
       "dtype: object"
      ]
     },
     "execution_count": 30,
     "metadata": {},
     "output_type": "execute_result"
    }
   ],
   "source": [
    "data_cleaned.dtypes"
   ]
  },
  {
   "cell_type": "markdown",
   "metadata": {
    "id": "JDN6qgT-F0ey"
   },
   "source": [
    "**Converting the downloads column in the 'data_cleaned' dataframe from a string type to a numeric type.**\n",
    "\n",
    "---\n",
    "\n"
   ]
  },
  {
   "cell_type": "code",
   "execution_count": 31,
   "metadata": {
    "colab": {
     "base_uri": "https://localhost:8080/"
    },
    "id": "6MPGHqTNC_n8",
    "outputId": "2641cb65-2bd8-4580-a057-59e3ec8ce5ac"
   },
   "outputs": [
    {
     "data": {
      "text/plain": [
       "Unnamed: 0                  int64\n",
       "IMDb-rating               float64\n",
       "appropriate_for            object\n",
       "downloads                   int64\n",
       "id                          int64\n",
       "industry                   object\n",
       "language                   object\n",
       "posted_date        datetime64[ns]\n",
       "release_date       datetime64[ns]\n",
       "run_time                    int64\n",
       "title                      object\n",
       "views                       int64\n",
       "dtype: object"
      ]
     },
     "execution_count": 31,
     "metadata": {},
     "output_type": "execute_result"
    }
   ],
   "source": [
    "data_status = data_cleaned.copy()\n",
    "data_status['downloads'] = data_status['downloads'].str.replace(',','')\n",
    "\n",
    "data_status[\"downloads\"] = pd.to_numeric(data_status[\"downloads\"])\n",
    "\n",
    "data_status.dtypes"
   ]
  },
  {
   "cell_type": "code",
   "execution_count": 32,
   "metadata": {
    "id": "mecl1U6bTBx3"
   },
   "outputs": [],
   "source": [
    "data_status['industry']=data_status['industry'].astype('category').cat.codes\n",
    "data_status['language']=data_status['language'].astype('category').cat.codes\n",
    "data_status['appropriate_for']=data_status['appropriate_for'].astype('category').cat.codes\n"
   ]
  },
  {
   "cell_type": "markdown",
   "metadata": {
    "id": "99MG4dCyGlml"
   },
   "source": [
    "In the code above, categorical columns \"industry\", \"language\" and \"appropriate_for\" are encoded using the .cat.codes method of pandas' Categorical data type. This method assigns a unique integer code to each category in a column."
   ]
  },
  {
   "cell_type": "code",
   "execution_count": 33,
   "metadata": {
    "id": "1IKcdnoah8Fo"
   },
   "outputs": [],
   "source": [
    "data_status.release_date=pd.to_datetime(data_status.release_date)\n",
    "data_status.release_date=pd.to_numeric(data_status.release_date)\n"
   ]
  },
  {
   "cell_type": "markdown",
   "metadata": {
    "id": "GAYTwAZJG79O"
   },
   "source": [
    "Converting the release_date column to numeric using pd.to_numeric() function after first converting it to a datetime object with pd.to_datetime()"
   ]
  },
  {
   "cell_type": "code",
   "execution_count": 34,
   "metadata": {
    "colab": {
     "base_uri": "https://localhost:8080/"
    },
    "id": "wGT-sDzNRon2",
    "outputId": "3261d27c-952f-4b45-d0db-f0d14ec120d1"
   },
   "outputs": [
    {
     "data": {
      "text/plain": [
       "id                -0.191444\n",
       "industry          -0.124834\n",
       "appropriate_for   -0.042403\n",
       "release_date      -0.000706\n",
       "IMDb-rating        0.133105\n",
       "Unnamed: 0         0.165327\n",
       "language           0.304343\n",
       "run_time           0.369027\n",
       "views              0.946408\n",
       "downloads          1.000000\n",
       "Name: downloads, dtype: float64"
      ]
     },
     "execution_count": 34,
     "metadata": {},
     "output_type": "execute_result"
    }
   ],
   "source": [
    "lindata = data_status.copy()\n",
    "corr_data = lindata.corr()['downloads'].sort_values()\n",
    "corr_data"
   ]
  },
  {
   "cell_type": "markdown",
   "metadata": {
    "id": "wNP1lsigHIQS"
   },
   "source": [
    "The above code calculates the correlation coefficient between the \"downloads\" column and every other column in the \"lindata\" dataset. The resulting correlation values are then sorted in ascending order and stored in the \"corr_data\" variable."
   ]
  },
  {
   "cell_type": "markdown",
   "metadata": {
    "id": "wuKKdeZuHc64"
   },
   "source": [
    "**Creating a scatter plot with 'downloads' on the y-axis and each variable in the group on the x-axis.**\n",
    "\n",
    "---\n",
    "\n"
   ]
  },
  {
   "cell_type": "code",
   "execution_count": 35,
   "metadata": {
    "colab": {
     "base_uri": "https://localhost:8080/",
     "height": 517
    },
    "id": "lKmka6GLSBSP",
    "outputId": "66385145-682f-40dd-cea0-908fde26b679"
   },
   "outputs": [
    {
     "data": {
      "image/png": "[encoded data removed]",
      "text/plain": [
       "<Figure size 900x180 with 5 Axes>"
      ]
     },
     "metadata": {
      "needs_background": "light"
     },
     "output_type": "display_data"
    },
    {
     "data": {
      "image/png": "[encoded data removed]",
      "text/plain": [
       "<Figure size 900x180 with 6 Axes>"
      ]
     },
     "metadata": {
      "needs_background": "light"
     },
     "output_type": "display_data"
    }
   ],
   "source": [
    "import seaborn as sns\n",
    "\n",
    "for i in range(0, len(corr_data.index), 5):\n",
    "    sns.pairplot(data=lindata,\n",
    "                x_vars = corr_data.index[i : i + 5],\n",
    "                y_vars = ['downloads'])"
   ]
  },
  {
   "cell_type": "markdown",
   "metadata": {
    "id": "NcPiX_bcWfw2"
   },
   "source": [
    "We observe that Rumtime, Views, Language and IMDb-rating have +ve correlation and industry, appropriate for, release-date variables have -ve correlation with Downloads.\n",
    "\n",
    "Also, the variables views, runtime and language have the highest correlation values which implies that these variables highly affects the number of downloads, whereas variables like release_date and appropriate_for have lowest correlation values which implies they have very less impact on the number of downloads.  "
   ]
  },
  {
   "cell_type": "markdown",
   "metadata": {
    "id": "VHHh0k7B3gSH"
   },
   "source": [
    "## KNN Regression to find missing values of IMDB Ratings"
   ]
  },
  {
   "cell_type": "markdown",
   "metadata": {
    "id": "kBz8V6FjHqmz"
   },
   "source": [
    "**Diving Data according to wheather the IMDB ratings are known or not**\n",
    "\n",
    "---\n",
    "\n"
   ]
  },
  {
   "cell_type": "code",
   "execution_count": 36,
   "metadata": {
    "id": "-_46_wqwtiTS"
   },
   "outputs": [],
   "source": [
    "X_predict=data_status[data_status['IMDb-rating'].isna()]\n",
    "y_predict=X_predict['IMDb-rating']\n",
    "X1=data_status[data_status[['IMDb-rating']].notnull().all(1)]\n",
    "y=X1['IMDb-rating']\n"
   ]
  },
  {
   "cell_type": "markdown",
   "metadata": {
    "id": "_tMP3pnVH_dK"
   },
   "source": [
    "**Importing Important libraries and finding missing values of IMDB Ratings using KNN**\n",
    "\n",
    "---\n",
    "\n"
   ]
  },
  {
   "cell_type": "code",
   "execution_count": 37,
   "metadata": {
    "colab": {
     "base_uri": "https://localhost:8080/"
    },
    "id": "OWmsZ6UbgHY-",
    "outputId": "243e6650-97a7-4f96-bcd6-9bad38856b96"
   },
   "outputs": [
    {
     "name": "stdout",
     "output_type": "stream",
     "text": [
      "0.05521555046298576\n"
     ]
    }
   ],
   "source": [
    "# Import necessary modules\n",
    "from sklearn.neighbors import KNeighborsClassifier,KNeighborsRegressor\n",
    "from sklearn.model_selection import train_test_split\n",
    "from sklearn.datasets import load_iris\n",
    "\n",
    "\n",
    "X=X1.loc[:,['downloads','run_time','language','views']]\n",
    "\n",
    "\n",
    "from sklearn import preprocessing\n",
    "from sklearn import utils\n",
    "\n",
    "\n",
    "\n",
    "\n",
    "\n",
    "# Instance and fit\n",
    "X_train, X_test, y_train, y_test = train_test_split(\n",
    "\t\t\tX, y, test_size = 0.2, random_state=42)\n",
    "knn_model = KNeighborsRegressor(n_neighbors=90).fit(X_train, y_train)\n",
    "\n",
    "# Score\n",
    "score_knn = knn_model.score(X_test, y_test)\n",
    "print(score_knn)\n",
    "\n",
    "\n"
   ]
  },
  {
   "cell_type": "markdown",
   "metadata": {
    "id": "RGb-MDnJI2Xz"
   },
   "source": [
    "In the above code we are trying to build a K-Nearest Neighbors regression model to predict the downloads variable in our dataset based on other features such as run_time, language, and views.\n",
    "\n",
    "First, extracted the required features from your dataset and stored them in the X variable.\n",
    "\n",
    "Then, split the dataset into training and testing sets using the train_test_split() method from sklearn.model_selection.\n",
    "\n",
    "After that, we instantiated a KNN regression model with n_neighbors=90 and fitted it to the training data using the KNeighborsRegressor() class from sklearn.neighbors.\n",
    "\n",
    "Finally, we calculated the accuracy score of your model using the score() method of the KNN model object, passing in the testing data and labels.\n",
    "which is 0.05597537695695898"
   ]
  },
  {
   "cell_type": "markdown",
   "metadata": {
    "id": "wcbk545VJddQ"
   },
   "source": [
    "**Predictions using the above KNN model**\n",
    "\n",
    "---\n",
    "\n"
   ]
  },
  {
   "cell_type": "code",
   "execution_count": 38,
   "metadata": {
    "id": "JJcDjPuCrZM9"
   },
   "outputs": [],
   "source": [
    "X_predict2=X_predict.loc[:,['downloads','run_time','language','views']]\n",
    "\n",
    "y_predict = knn_model.predict(X_predict2)"
   ]
  },
  {
   "cell_type": "markdown",
   "metadata": {
    "id": "F7vXPfTHJuPB"
   },
   "source": [
    "**Drop the IMDB-rating Column**\n",
    "\n",
    "---\n",
    "\n"
   ]
  },
  {
   "cell_type": "code",
   "execution_count": 39,
   "metadata": {
    "colab": {
     "base_uri": "https://localhost:8080/"
    },
    "id": "4f1TMDb_1S00",
    "outputId": "64d585a7-c9c6-4369-ff4e-dffeea803b9f"
   },
   "outputs": [
    {
     "name": "stderr",
     "output_type": "stream",
     "text": [
      "/Users/alisha/.local/lib/python3.8/site-packages/pandas/core/frame.py:3990: SettingWithCopyWarning: \n",
      "A value is trying to be set on a copy of a slice from a DataFrame\n",
      "\n",
      "See the caveats in the documentation: https://pandas.pydata.org/pandas-docs/stable/user_guide/indexing.html#returning-a-view-versus-a-copy\n",
      "  return super().drop(\n"
     ]
    }
   ],
   "source": [
    "X_predict.drop(['IMDb-rating'],axis=1,inplace=True)"
   ]
  },
  {
   "cell_type": "markdown",
   "metadata": {
    "id": "VbC857ugJoSR"
   },
   "source": [
    "**Print the predictions**\n",
    "\n",
    "---\n",
    "\n"
   ]
  },
  {
   "cell_type": "code",
   "execution_count": 40,
   "metadata": {
    "colab": {
     "base_uri": "https://localhost:8080/",
     "height": 423
    },
    "id": "FAI2NbYT2xOl",
    "outputId": "8c556135-458e-4e2c-d63f-ee131cb4c95d"
   },
   "outputs": [
    {
     "data": {
      "text/html": [
       "<div>\n",
       "<style scoped>\n",
       "    .dataframe tbody tr th:only-of-type {\n",
       "        vertical-align: middle;\n",
       "    }\n",
       "\n",
       "    .dataframe tbody tr th {\n",
       "        vertical-align: top;\n",
       "    }\n",
       "\n",
       "    .dataframe thead th {\n",
       "        text-align: right;\n",
       "    }\n",
       "</style>\n",
       "<table border=\"1\" class=\"dataframe\">\n",
       "  <thead>\n",
       "    <tr style=\"text-align: right;\">\n",
       "      <th></th>\n",
       "      <th>Unnamed: 0</th>\n",
       "      <th>appropriate_for</th>\n",
       "      <th>downloads</th>\n",
       "      <th>id</th>\n",
       "      <th>industry</th>\n",
       "      <th>language</th>\n",
       "      <th>posted_date</th>\n",
       "      <th>release_date</th>\n",
       "      <th>run_time</th>\n",
       "      <th>title</th>\n",
       "      <th>views</th>\n",
       "    </tr>\n",
       "  </thead>\n",
       "  <tbody>\n",
       "    <tr>\n",
       "      <th>4</th>\n",
       "      <td>6</td>\n",
       "      <td>15</td>\n",
       "      <td>5332</td>\n",
       "      <td>372059</td>\n",
       "      <td>9</td>\n",
       "      <td>54</td>\n",
       "      <td>2023-02-19</td>\n",
       "      <td>1676678400000000000</td>\n",
       "      <td>200</td>\n",
       "      <td>WWE Elimination Chamber</td>\n",
       "      <td>11978</td>\n",
       "    </tr>\n",
       "    <tr>\n",
       "      <th>9</th>\n",
       "      <td>12</td>\n",
       "      <td>19</td>\n",
       "      <td>2253</td>\n",
       "      <td>372038</td>\n",
       "      <td>9</td>\n",
       "      <td>54</td>\n",
       "      <td>2023-02-18</td>\n",
       "      <td>1676592000000000000</td>\n",
       "      <td>90</td>\n",
       "      <td>WWE Smackdown 2023-02-17</td>\n",
       "      <td>5468</td>\n",
       "    </tr>\n",
       "    <tr>\n",
       "      <th>12</th>\n",
       "      <td>16</td>\n",
       "      <td>19</td>\n",
       "      <td>2785</td>\n",
       "      <td>371990</td>\n",
       "      <td>6</td>\n",
       "      <td>1074</td>\n",
       "      <td>2023-02-17</td>\n",
       "      <td>1676505600000000000</td>\n",
       "      <td>90</td>\n",
       "      <td>Sab Fadey Jaange.2023</td>\n",
       "      <td>12968</td>\n",
       "    </tr>\n",
       "    <tr>\n",
       "      <th>14</th>\n",
       "      <td>18</td>\n",
       "      <td>19</td>\n",
       "      <td>171</td>\n",
       "      <td>371988</td>\n",
       "      <td>9</td>\n",
       "      <td>54</td>\n",
       "      <td>2023-02-17</td>\n",
       "      <td>1676505600000000000</td>\n",
       "      <td>90</td>\n",
       "      <td>TNA.Impact 2023-02-16</td>\n",
       "      <td>667</td>\n",
       "    </tr>\n",
       "    <tr>\n",
       "      <th>18</th>\n",
       "      <td>24</td>\n",
       "      <td>19</td>\n",
       "      <td>1299</td>\n",
       "      <td>371932</td>\n",
       "      <td>2</td>\n",
       "      <td>854</td>\n",
       "      <td>2023-02-16</td>\n",
       "      <td>1674259200000000000</td>\n",
       "      <td>142</td>\n",
       "      <td>Ho Ja Mukt</td>\n",
       "      <td>10891</td>\n",
       "    </tr>\n",
       "    <tr>\n",
       "      <th>...</th>\n",
       "      <td>...</td>\n",
       "      <td>...</td>\n",
       "      <td>...</td>\n",
       "      <td>...</td>\n",
       "      <td>...</td>\n",
       "      <td>...</td>\n",
       "      <td>...</td>\n",
       "      <td>...</td>\n",
       "      <td>...</td>\n",
       "      <td>...</td>\n",
       "      <td>...</td>\n",
       "    </tr>\n",
       "    <tr>\n",
       "      <th>17155</th>\n",
       "      <td>20528</td>\n",
       "      <td>19</td>\n",
       "      <td>1998</td>\n",
       "      <td>28957</td>\n",
       "      <td>2</td>\n",
       "      <td>854</td>\n",
       "      <td>1970-01-01</td>\n",
       "      <td>-341020800000000000</td>\n",
       "      <td>90</td>\n",
       "      <td>Bhai-Bahen</td>\n",
       "      <td>6218</td>\n",
       "    </tr>\n",
       "    <tr>\n",
       "      <th>17168</th>\n",
       "      <td>20543</td>\n",
       "      <td>19</td>\n",
       "      <td>1998</td>\n",
       "      <td>28957</td>\n",
       "      <td>2</td>\n",
       "      <td>854</td>\n",
       "      <td>1970-01-01</td>\n",
       "      <td>-341020800000000000</td>\n",
       "      <td>90</td>\n",
       "      <td>Bhai-Bahen</td>\n",
       "      <td>6219</td>\n",
       "    </tr>\n",
       "    <tr>\n",
       "      <th>17176</th>\n",
       "      <td>55</td>\n",
       "      <td>19</td>\n",
       "      <td>1781</td>\n",
       "      <td>371740</td>\n",
       "      <td>9</td>\n",
       "      <td>54</td>\n",
       "      <td>2023-02-13</td>\n",
       "      <td>1675987200000000000</td>\n",
       "      <td>90</td>\n",
       "      <td>WWE Smackdown 2023-02-10</td>\n",
       "      <td>4842</td>\n",
       "    </tr>\n",
       "    <tr>\n",
       "      <th>17184</th>\n",
       "      <td>44</td>\n",
       "      <td>19</td>\n",
       "      <td>2609</td>\n",
       "      <td>371816</td>\n",
       "      <td>9</td>\n",
       "      <td>54</td>\n",
       "      <td>2023-02-14</td>\n",
       "      <td>1676246400000000000</td>\n",
       "      <td>90</td>\n",
       "      <td>WWE Raw 2023-02-13</td>\n",
       "      <td>6658</td>\n",
       "    </tr>\n",
       "    <tr>\n",
       "      <th>17185</th>\n",
       "      <td>63</td>\n",
       "      <td>19</td>\n",
       "      <td>309</td>\n",
       "      <td>371669</td>\n",
       "      <td>9</td>\n",
       "      <td>54</td>\n",
       "      <td>2023-02-10</td>\n",
       "      <td>1675900800000000000</td>\n",
       "      <td>90</td>\n",
       "      <td>TNA.Impact 2023-02-09</td>\n",
       "      <td>1380</td>\n",
       "    </tr>\n",
       "  </tbody>\n",
       "</table>\n",
       "<p>486 rows × 11 columns</p>\n",
       "</div>"
      ],
      "text/plain": [
       "       Unnamed: 0  appropriate_for  downloads      id  industry  language  \\\n",
       "4               6               15       5332  372059         9        54   \n",
       "9              12               19       2253  372038         9        54   \n",
       "12             16               19       2785  371990         6      1074   \n",
       "14             18               19        171  371988         9        54   \n",
       "18             24               19       1299  371932         2       854   \n",
       "...           ...              ...        ...     ...       ...       ...   \n",
       "17155       20528               19       1998   28957         2       854   \n",
       "17168       20543               19       1998   28957         2       854   \n",
       "17176          55               19       1781  371740         9        54   \n",
       "17184          44               19       2609  371816         9        54   \n",
       "17185          63               19        309  371669         9        54   \n",
       "\n",
       "      posted_date         release_date  run_time                     title  \\\n",
       "4      2023-02-19  1676678400000000000       200   WWE Elimination Chamber   \n",
       "9      2023-02-18  1676592000000000000        90  WWE Smackdown 2023-02-17   \n",
       "12     2023-02-17  1676505600000000000        90     Sab Fadey Jaange.2023   \n",
       "14     2023-02-17  1676505600000000000        90     TNA.Impact 2023-02-16   \n",
       "18     2023-02-16  1674259200000000000       142                Ho Ja Mukt   \n",
       "...           ...                  ...       ...                       ...   \n",
       "17155  1970-01-01  -341020800000000000        90                Bhai-Bahen   \n",
       "17168  1970-01-01  -341020800000000000        90                Bhai-Bahen   \n",
       "17176  2023-02-13  1675987200000000000        90  WWE Smackdown 2023-02-10   \n",
       "17184  2023-02-14  1676246400000000000        90        WWE Raw 2023-02-13   \n",
       "17185  2023-02-10  1675900800000000000        90     TNA.Impact 2023-02-09   \n",
       "\n",
       "       views  \n",
       "4      11978  \n",
       "9       5468  \n",
       "12     12968  \n",
       "14       667  \n",
       "18     10891  \n",
       "...      ...  \n",
       "17155   6218  \n",
       "17168   6219  \n",
       "17176   4842  \n",
       "17184   6658  \n",
       "17185   1380  \n",
       "\n",
       "[486 rows x 11 columns]"
      ]
     },
     "execution_count": 40,
     "metadata": {},
     "output_type": "execute_result"
    }
   ],
   "source": [
    "X_predict"
   ]
  },
  {
   "cell_type": "code",
   "execution_count": 41,
   "metadata": {
    "colab": {
     "base_uri": "https://localhost:8080/"
    },
    "id": "OFqmKDCuxX0f",
    "outputId": "6ee0dc23-7702-46c1-ba36-1cbd4b339b40"
   },
   "outputs": [
    {
     "name": "stderr",
     "output_type": "stream",
     "text": [
      "<ipython-input-41-48f3ff72ad7a>:1: SettingWithCopyWarning: \n",
      "A value is trying to be set on a copy of a slice from a DataFrame.\n",
      "Try using .loc[row_indexer,col_indexer] = value instead\n",
      "\n",
      "See the caveats in the documentation: https://pandas.pydata.org/pandas-docs/stable/user_guide/indexing.html#returning-a-view-versus-a-copy\n",
      "  X_predict['IMDb-rating']=y_predict\n"
     ]
    }
   ],
   "source": [
    "X_predict['IMDb-rating']=y_predict"
   ]
  },
  {
   "cell_type": "code",
   "execution_count": 42,
   "metadata": {
    "colab": {
     "base_uri": "https://localhost:8080/",
     "height": 423
    },
    "id": "YFCwnowt2ctX",
    "outputId": "a1a2e632-8e55-46cb-dd36-94f85e8a9806"
   },
   "outputs": [
    {
     "data": {
      "text/html": [
       "<div>\n",
       "<style scoped>\n",
       "    .dataframe tbody tr th:only-of-type {\n",
       "        vertical-align: middle;\n",
       "    }\n",
       "\n",
       "    .dataframe tbody tr th {\n",
       "        vertical-align: top;\n",
       "    }\n",
       "\n",
       "    .dataframe thead th {\n",
       "        text-align: right;\n",
       "    }\n",
       "</style>\n",
       "<table border=\"1\" class=\"dataframe\">\n",
       "  <thead>\n",
       "    <tr style=\"text-align: right;\">\n",
       "      <th></th>\n",
       "      <th>Unnamed: 0</th>\n",
       "      <th>appropriate_for</th>\n",
       "      <th>downloads</th>\n",
       "      <th>id</th>\n",
       "      <th>industry</th>\n",
       "      <th>language</th>\n",
       "      <th>posted_date</th>\n",
       "      <th>release_date</th>\n",
       "      <th>run_time</th>\n",
       "      <th>title</th>\n",
       "      <th>views</th>\n",
       "      <th>IMDb-rating</th>\n",
       "    </tr>\n",
       "  </thead>\n",
       "  <tbody>\n",
       "    <tr>\n",
       "      <th>4</th>\n",
       "      <td>6</td>\n",
       "      <td>15</td>\n",
       "      <td>5332</td>\n",
       "      <td>372059</td>\n",
       "      <td>9</td>\n",
       "      <td>54</td>\n",
       "      <td>2023-02-19</td>\n",
       "      <td>1676678400000000000</td>\n",
       "      <td>200</td>\n",
       "      <td>WWE Elimination Chamber</td>\n",
       "      <td>11978</td>\n",
       "      <td>5.266667</td>\n",
       "    </tr>\n",
       "    <tr>\n",
       "      <th>9</th>\n",
       "      <td>12</td>\n",
       "      <td>19</td>\n",
       "      <td>2253</td>\n",
       "      <td>372038</td>\n",
       "      <td>9</td>\n",
       "      <td>54</td>\n",
       "      <td>2023-02-18</td>\n",
       "      <td>1676592000000000000</td>\n",
       "      <td>90</td>\n",
       "      <td>WWE Smackdown 2023-02-17</td>\n",
       "      <td>5468</td>\n",
       "      <td>6.017778</td>\n",
       "    </tr>\n",
       "    <tr>\n",
       "      <th>12</th>\n",
       "      <td>16</td>\n",
       "      <td>19</td>\n",
       "      <td>2785</td>\n",
       "      <td>371990</td>\n",
       "      <td>6</td>\n",
       "      <td>1074</td>\n",
       "      <td>2023-02-17</td>\n",
       "      <td>1676505600000000000</td>\n",
       "      <td>90</td>\n",
       "      <td>Sab Fadey Jaange.2023</td>\n",
       "      <td>12968</td>\n",
       "      <td>5.705556</td>\n",
       "    </tr>\n",
       "    <tr>\n",
       "      <th>14</th>\n",
       "      <td>18</td>\n",
       "      <td>19</td>\n",
       "      <td>171</td>\n",
       "      <td>371988</td>\n",
       "      <td>9</td>\n",
       "      <td>54</td>\n",
       "      <td>2023-02-17</td>\n",
       "      <td>1676505600000000000</td>\n",
       "      <td>90</td>\n",
       "      <td>TNA.Impact 2023-02-16</td>\n",
       "      <td>667</td>\n",
       "      <td>5.386667</td>\n",
       "    </tr>\n",
       "    <tr>\n",
       "      <th>18</th>\n",
       "      <td>24</td>\n",
       "      <td>19</td>\n",
       "      <td>1299</td>\n",
       "      <td>371932</td>\n",
       "      <td>2</td>\n",
       "      <td>854</td>\n",
       "      <td>2023-02-16</td>\n",
       "      <td>1674259200000000000</td>\n",
       "      <td>142</td>\n",
       "      <td>Ho Ja Mukt</td>\n",
       "      <td>10891</td>\n",
       "      <td>5.548889</td>\n",
       "    </tr>\n",
       "    <tr>\n",
       "      <th>...</th>\n",
       "      <td>...</td>\n",
       "      <td>...</td>\n",
       "      <td>...</td>\n",
       "      <td>...</td>\n",
       "      <td>...</td>\n",
       "      <td>...</td>\n",
       "      <td>...</td>\n",
       "      <td>...</td>\n",
       "      <td>...</td>\n",
       "      <td>...</td>\n",
       "      <td>...</td>\n",
       "      <td>...</td>\n",
       "    </tr>\n",
       "    <tr>\n",
       "      <th>17155</th>\n",
       "      <td>20528</td>\n",
       "      <td>19</td>\n",
       "      <td>1998</td>\n",
       "      <td>28957</td>\n",
       "      <td>2</td>\n",
       "      <td>854</td>\n",
       "      <td>1970-01-01</td>\n",
       "      <td>-341020800000000000</td>\n",
       "      <td>90</td>\n",
       "      <td>Bhai-Bahen</td>\n",
       "      <td>6218</td>\n",
       "      <td>6.311111</td>\n",
       "    </tr>\n",
       "    <tr>\n",
       "      <th>17168</th>\n",
       "      <td>20543</td>\n",
       "      <td>19</td>\n",
       "      <td>1998</td>\n",
       "      <td>28957</td>\n",
       "      <td>2</td>\n",
       "      <td>854</td>\n",
       "      <td>1970-01-01</td>\n",
       "      <td>-341020800000000000</td>\n",
       "      <td>90</td>\n",
       "      <td>Bhai-Bahen</td>\n",
       "      <td>6219</td>\n",
       "      <td>6.311111</td>\n",
       "    </tr>\n",
       "    <tr>\n",
       "      <th>17176</th>\n",
       "      <td>55</td>\n",
       "      <td>19</td>\n",
       "      <td>1781</td>\n",
       "      <td>371740</td>\n",
       "      <td>9</td>\n",
       "      <td>54</td>\n",
       "      <td>2023-02-13</td>\n",
       "      <td>1675987200000000000</td>\n",
       "      <td>90</td>\n",
       "      <td>WWE Smackdown 2023-02-10</td>\n",
       "      <td>4842</td>\n",
       "      <td>6.081111</td>\n",
       "    </tr>\n",
       "    <tr>\n",
       "      <th>17184</th>\n",
       "      <td>44</td>\n",
       "      <td>19</td>\n",
       "      <td>2609</td>\n",
       "      <td>371816</td>\n",
       "      <td>9</td>\n",
       "      <td>54</td>\n",
       "      <td>2023-02-14</td>\n",
       "      <td>1676246400000000000</td>\n",
       "      <td>90</td>\n",
       "      <td>WWE Raw 2023-02-13</td>\n",
       "      <td>6658</td>\n",
       "      <td>5.925556</td>\n",
       "    </tr>\n",
       "    <tr>\n",
       "      <th>17185</th>\n",
       "      <td>63</td>\n",
       "      <td>19</td>\n",
       "      <td>309</td>\n",
       "      <td>371669</td>\n",
       "      <td>9</td>\n",
       "      <td>54</td>\n",
       "      <td>2023-02-10</td>\n",
       "      <td>1675900800000000000</td>\n",
       "      <td>90</td>\n",
       "      <td>TNA.Impact 2023-02-09</td>\n",
       "      <td>1380</td>\n",
       "      <td>5.386667</td>\n",
       "    </tr>\n",
       "  </tbody>\n",
       "</table>\n",
       "<p>486 rows × 12 columns</p>\n",
       "</div>"
      ],
      "text/plain": [
       "       Unnamed: 0  appropriate_for  downloads      id  industry  language  \\\n",
       "4               6               15       5332  372059         9        54   \n",
       "9              12               19       2253  372038         9        54   \n",
       "12             16               19       2785  371990         6      1074   \n",
       "14             18               19        171  371988         9        54   \n",
       "18             24               19       1299  371932         2       854   \n",
       "...           ...              ...        ...     ...       ...       ...   \n",
       "17155       20528               19       1998   28957         2       854   \n",
       "17168       20543               19       1998   28957         2       854   \n",
       "17176          55               19       1781  371740         9        54   \n",
       "17184          44               19       2609  371816         9        54   \n",
       "17185          63               19        309  371669         9        54   \n",
       "\n",
       "      posted_date         release_date  run_time                     title  \\\n",
       "4      2023-02-19  1676678400000000000       200   WWE Elimination Chamber   \n",
       "9      2023-02-18  1676592000000000000        90  WWE Smackdown 2023-02-17   \n",
       "12     2023-02-17  1676505600000000000        90     Sab Fadey Jaange.2023   \n",
       "14     2023-02-17  1676505600000000000        90     TNA.Impact 2023-02-16   \n",
       "18     2023-02-16  1674259200000000000       142                Ho Ja Mukt   \n",
       "...           ...                  ...       ...                       ...   \n",
       "17155  1970-01-01  -341020800000000000        90                Bhai-Bahen   \n",
       "17168  1970-01-01  -341020800000000000        90                Bhai-Bahen   \n",
       "17176  2023-02-13  1675987200000000000        90  WWE Smackdown 2023-02-10   \n",
       "17184  2023-02-14  1676246400000000000        90        WWE Raw 2023-02-13   \n",
       "17185  2023-02-10  1675900800000000000        90     TNA.Impact 2023-02-09   \n",
       "\n",
       "       views  IMDb-rating  \n",
       "4      11978     5.266667  \n",
       "9       5468     6.017778  \n",
       "12     12968     5.705556  \n",
       "14       667     5.386667  \n",
       "18     10891     5.548889  \n",
       "...      ...          ...  \n",
       "17155   6218     6.311111  \n",
       "17168   6219     6.311111  \n",
       "17176   4842     6.081111  \n",
       "17184   6658     5.925556  \n",
       "17185   1380     5.386667  \n",
       "\n",
       "[486 rows x 12 columns]"
      ]
     },
     "execution_count": 42,
     "metadata": {},
     "output_type": "execute_result"
    }
   ],
   "source": [
    "X_predict"
   ]
  },
  {
   "cell_type": "code",
   "execution_count": 43,
   "metadata": {
    "id": "XogNWlhI2-lv"
   },
   "outputs": [],
   "source": [
    "data_cleaned=pd.concat([X1,X_predict])"
   ]
  },
  {
   "cell_type": "markdown",
   "metadata": {
    "id": "gizFIFvwKMpB"
   },
   "source": [
    "In this code, X1 and X_predict are being concatenated vertically along axis 0 to form a new DataFrame called data_cleaned.\n",
    "\n",
    "This operation results in a new DataFrame that contains all the rows from X1 and X_predict combined. This is done in order to perform any necessary cleaning, preprocessing or feature engineering on the entire dataset."
   ]
  },
  {
   "cell_type": "markdown",
   "metadata": {
    "id": "aKINhYp0KQW_"
   },
   "source": [
    "**Print the new cleaned data : data_cleaned**\n",
    "\n",
    "---\n",
    "\n"
   ]
  },
  {
   "cell_type": "code",
   "execution_count": 44,
   "metadata": {
    "colab": {
     "base_uri": "https://localhost:8080/",
     "height": 423
    },
    "id": "3OwFLmIz3b-a",
    "outputId": "4fa15550-8d28-4ef3-dab2-98f084e27493"
   },
   "outputs": [
    {
     "data": {
      "text/html": [
       "<div>\n",
       "<style scoped>\n",
       "    .dataframe tbody tr th:only-of-type {\n",
       "        vertical-align: middle;\n",
       "    }\n",
       "\n",
       "    .dataframe tbody tr th {\n",
       "        vertical-align: top;\n",
       "    }\n",
       "\n",
       "    .dataframe thead th {\n",
       "        text-align: right;\n",
       "    }\n",
       "</style>\n",
       "<table border=\"1\" class=\"dataframe\">\n",
       "  <thead>\n",
       "    <tr style=\"text-align: right;\">\n",
       "      <th></th>\n",
       "      <th>Unnamed: 0</th>\n",
       "      <th>IMDb-rating</th>\n",
       "      <th>appropriate_for</th>\n",
       "      <th>downloads</th>\n",
       "      <th>id</th>\n",
       "      <th>industry</th>\n",
       "      <th>language</th>\n",
       "      <th>posted_date</th>\n",
       "      <th>release_date</th>\n",
       "      <th>run_time</th>\n",
       "      <th>title</th>\n",
       "      <th>views</th>\n",
       "    </tr>\n",
       "  </thead>\n",
       "  <tbody>\n",
       "    <tr>\n",
       "      <th>0</th>\n",
       "      <td>1</td>\n",
       "      <td>6.400000</td>\n",
       "      <td>15</td>\n",
       "      <td>73</td>\n",
       "      <td>372091</td>\n",
       "      <td>4</td>\n",
       "      <td>54</td>\n",
       "      <td>2023-02-20</td>\n",
       "      <td>1675555200000000000</td>\n",
       "      <td>84</td>\n",
       "      <td>Grilling Season: A Curious Caterer Mystery</td>\n",
       "      <td>1002</td>\n",
       "    </tr>\n",
       "    <tr>\n",
       "      <th>1</th>\n",
       "      <td>2</td>\n",
       "      <td>5.200000</td>\n",
       "      <td>10</td>\n",
       "      <td>1427</td>\n",
       "      <td>343381</td>\n",
       "      <td>4</td>\n",
       "      <td>351</td>\n",
       "      <td>2021-04-20</td>\n",
       "      <td>1623974400000000000</td>\n",
       "      <td>107</td>\n",
       "      <td>In the Earth</td>\n",
       "      <td>14419</td>\n",
       "    </tr>\n",
       "    <tr>\n",
       "      <th>2</th>\n",
       "      <td>4</td>\n",
       "      <td>4.600000</td>\n",
       "      <td>19</td>\n",
       "      <td>657</td>\n",
       "      <td>372089</td>\n",
       "      <td>8</td>\n",
       "      <td>854</td>\n",
       "      <td>2023-02-20</td>\n",
       "      <td>1674691200000000000</td>\n",
       "      <td>122</td>\n",
       "      <td>Alone</td>\n",
       "      <td>2438</td>\n",
       "    </tr>\n",
       "    <tr>\n",
       "      <th>3</th>\n",
       "      <td>5</td>\n",
       "      <td>5.400000</td>\n",
       "      <td>19</td>\n",
       "      <td>746</td>\n",
       "      <td>372088</td>\n",
       "      <td>8</td>\n",
       "      <td>854</td>\n",
       "      <td>2023-02-20</td>\n",
       "      <td>1637884800000000000</td>\n",
       "      <td>131</td>\n",
       "      <td>Anubhavinchu Raja</td>\n",
       "      <td>2940</td>\n",
       "    </tr>\n",
       "    <tr>\n",
       "      <th>5</th>\n",
       "      <td>7</td>\n",
       "      <td>6.500000</td>\n",
       "      <td>10</td>\n",
       "      <td>1781</td>\n",
       "      <td>371751</td>\n",
       "      <td>4</td>\n",
       "      <td>54</td>\n",
       "      <td>2023-02-13</td>\n",
       "      <td>1676592000000000000</td>\n",
       "      <td>116</td>\n",
       "      <td>Sharper</td>\n",
       "      <td>18225</td>\n",
       "    </tr>\n",
       "    <tr>\n",
       "      <th>...</th>\n",
       "      <td>...</td>\n",
       "      <td>...</td>\n",
       "      <td>...</td>\n",
       "      <td>...</td>\n",
       "      <td>...</td>\n",
       "      <td>...</td>\n",
       "      <td>...</td>\n",
       "      <td>...</td>\n",
       "      <td>...</td>\n",
       "      <td>...</td>\n",
       "      <td>...</td>\n",
       "      <td>...</td>\n",
       "    </tr>\n",
       "    <tr>\n",
       "      <th>17155</th>\n",
       "      <td>20528</td>\n",
       "      <td>6.311111</td>\n",
       "      <td>19</td>\n",
       "      <td>1998</td>\n",
       "      <td>28957</td>\n",
       "      <td>2</td>\n",
       "      <td>854</td>\n",
       "      <td>1970-01-01</td>\n",
       "      <td>-341020800000000000</td>\n",
       "      <td>90</td>\n",
       "      <td>Bhai-Bahen</td>\n",
       "      <td>6218</td>\n",
       "    </tr>\n",
       "    <tr>\n",
       "      <th>17168</th>\n",
       "      <td>20543</td>\n",
       "      <td>6.311111</td>\n",
       "      <td>19</td>\n",
       "      <td>1998</td>\n",
       "      <td>28957</td>\n",
       "      <td>2</td>\n",
       "      <td>854</td>\n",
       "      <td>1970-01-01</td>\n",
       "      <td>-341020800000000000</td>\n",
       "      <td>90</td>\n",
       "      <td>Bhai-Bahen</td>\n",
       "      <td>6219</td>\n",
       "    </tr>\n",
       "    <tr>\n",
       "      <th>17176</th>\n",
       "      <td>55</td>\n",
       "      <td>6.081111</td>\n",
       "      <td>19</td>\n",
       "      <td>1781</td>\n",
       "      <td>371740</td>\n",
       "      <td>9</td>\n",
       "      <td>54</td>\n",
       "      <td>2023-02-13</td>\n",
       "      <td>1675987200000000000</td>\n",
       "      <td>90</td>\n",
       "      <td>WWE Smackdown 2023-02-10</td>\n",
       "      <td>4842</td>\n",
       "    </tr>\n",
       "    <tr>\n",
       "      <th>17184</th>\n",
       "      <td>44</td>\n",
       "      <td>5.925556</td>\n",
       "      <td>19</td>\n",
       "      <td>2609</td>\n",
       "      <td>371816</td>\n",
       "      <td>9</td>\n",
       "      <td>54</td>\n",
       "      <td>2023-02-14</td>\n",
       "      <td>1676246400000000000</td>\n",
       "      <td>90</td>\n",
       "      <td>WWE Raw 2023-02-13</td>\n",
       "      <td>6658</td>\n",
       "    </tr>\n",
       "    <tr>\n",
       "      <th>17185</th>\n",
       "      <td>63</td>\n",
       "      <td>5.386667</td>\n",
       "      <td>19</td>\n",
       "      <td>309</td>\n",
       "      <td>371669</td>\n",
       "      <td>9</td>\n",
       "      <td>54</td>\n",
       "      <td>2023-02-10</td>\n",
       "      <td>1675900800000000000</td>\n",
       "      <td>90</td>\n",
       "      <td>TNA.Impact 2023-02-09</td>\n",
       "      <td>1380</td>\n",
       "    </tr>\n",
       "  </tbody>\n",
       "</table>\n",
       "<p>17185 rows × 12 columns</p>\n",
       "</div>"
      ],
      "text/plain": [
       "       Unnamed: 0  IMDb-rating  appropriate_for  downloads      id  industry  \\\n",
       "0               1     6.400000               15         73  372091         4   \n",
       "1               2     5.200000               10       1427  343381         4   \n",
       "2               4     4.600000               19        657  372089         8   \n",
       "3               5     5.400000               19        746  372088         8   \n",
       "5               7     6.500000               10       1781  371751         4   \n",
       "...           ...          ...              ...        ...     ...       ...   \n",
       "17155       20528     6.311111               19       1998   28957         2   \n",
       "17168       20543     6.311111               19       1998   28957         2   \n",
       "17176          55     6.081111               19       1781  371740         9   \n",
       "17184          44     5.925556               19       2609  371816         9   \n",
       "17185          63     5.386667               19        309  371669         9   \n",
       "\n",
       "       language posted_date         release_date  run_time  \\\n",
       "0            54  2023-02-20  1675555200000000000        84   \n",
       "1           351  2021-04-20  1623974400000000000       107   \n",
       "2           854  2023-02-20  1674691200000000000       122   \n",
       "3           854  2023-02-20  1637884800000000000       131   \n",
       "5            54  2023-02-13  1676592000000000000       116   \n",
       "...         ...         ...                  ...       ...   \n",
       "17155       854  1970-01-01  -341020800000000000        90   \n",
       "17168       854  1970-01-01  -341020800000000000        90   \n",
       "17176        54  2023-02-13  1675987200000000000        90   \n",
       "17184        54  2023-02-14  1676246400000000000        90   \n",
       "17185        54  2023-02-10  1675900800000000000        90   \n",
       "\n",
       "                                            title  views  \n",
       "0      Grilling Season: A Curious Caterer Mystery   1002  \n",
       "1                                    In the Earth  14419  \n",
       "2                                           Alone   2438  \n",
       "3                               Anubhavinchu Raja   2940  \n",
       "5                                         Sharper  18225  \n",
       "...                                           ...    ...  \n",
       "17155                                  Bhai-Bahen   6218  \n",
       "17168                                  Bhai-Bahen   6219  \n",
       "17176                    WWE Smackdown 2023-02-10   4842  \n",
       "17184                          WWE Raw 2023-02-13   6658  \n",
       "17185                       TNA.Impact 2023-02-09   1380  \n",
       "\n",
       "[17185 rows x 12 columns]"
      ]
     },
     "execution_count": 44,
     "metadata": {},
     "output_type": "execute_result"
    }
   ],
   "source": [
    "data_cleaned"
   ]
  },
  {
   "cell_type": "markdown",
   "metadata": {
    "id": "gjp3McNyuz1Q"
   },
   "source": [
    "##What is the highest pirated movie together and from each industry? "
   ]
  },
  {
   "cell_type": "code",
   "execution_count": 45,
   "metadata": {
    "colab": {
     "base_uri": "https://localhost:8080/",
     "height": 423
    },
    "id": "6Zmvh2aiSNTn",
    "outputId": "24c1a85f-3353-4d9e-910b-d4d5cfa2452f"
   },
   "outputs": [
    {
     "data": {
      "text/html": [
       "<div>\n",
       "<style scoped>\n",
       "    .dataframe tbody tr th:only-of-type {\n",
       "        vertical-align: middle;\n",
       "    }\n",
       "\n",
       "    .dataframe tbody tr th {\n",
       "        vertical-align: top;\n",
       "    }\n",
       "\n",
       "    .dataframe thead th {\n",
       "        text-align: right;\n",
       "    }\n",
       "</style>\n",
       "<table border=\"1\" class=\"dataframe\">\n",
       "  <thead>\n",
       "    <tr style=\"text-align: right;\">\n",
       "      <th></th>\n",
       "      <th>title</th>\n",
       "      <th>views</th>\n",
       "      <th>industry</th>\n",
       "    </tr>\n",
       "  </thead>\n",
       "  <tbody>\n",
       "    <tr>\n",
       "      <th>6993</th>\n",
       "      <td>Baaghi 2</td>\n",
       "      <td>1638533</td>\n",
       "      <td>2</td>\n",
       "    </tr>\n",
       "    <tr>\n",
       "      <th>7400</th>\n",
       "      <td>Tiger Zinda Hai</td>\n",
       "      <td>1038317</td>\n",
       "      <td>2</td>\n",
       "    </tr>\n",
       "    <tr>\n",
       "      <th>6585</th>\n",
       "      <td>Raid</td>\n",
       "      <td>993825</td>\n",
       "      <td>2</td>\n",
       "    </tr>\n",
       "    <tr>\n",
       "      <th>4666</th>\n",
       "      <td>Avengers: Endgame</td>\n",
       "      <td>991133</td>\n",
       "      <td>4</td>\n",
       "    </tr>\n",
       "    <tr>\n",
       "      <th>6643</th>\n",
       "      <td>Avengers: Infinity War</td>\n",
       "      <td>969673</td>\n",
       "      <td>4</td>\n",
       "    </tr>\n",
       "    <tr>\n",
       "      <th>...</th>\n",
       "      <td>...</td>\n",
       "      <td>...</td>\n",
       "      <td>...</td>\n",
       "    </tr>\n",
       "    <tr>\n",
       "      <th>358</th>\n",
       "      <td>TNA.Impact 2022-12-08</td>\n",
       "      <td>888</td>\n",
       "      <td>9</td>\n",
       "    </tr>\n",
       "    <tr>\n",
       "      <th>548</th>\n",
       "      <td>TNA.Impact 2022-11-03</td>\n",
       "      <td>873</td>\n",
       "      <td>9</td>\n",
       "    </tr>\n",
       "    <tr>\n",
       "      <th>502</th>\n",
       "      <td>TNA.Impact 2022-11-10</td>\n",
       "      <td>852</td>\n",
       "      <td>9</td>\n",
       "    </tr>\n",
       "    <tr>\n",
       "      <th>2749</th>\n",
       "      <td>Free Byrd</td>\n",
       "      <td>698</td>\n",
       "      <td>4</td>\n",
       "    </tr>\n",
       "    <tr>\n",
       "      <th>14</th>\n",
       "      <td>TNA.Impact 2023-02-16</td>\n",
       "      <td>667</td>\n",
       "      <td>9</td>\n",
       "    </tr>\n",
       "  </tbody>\n",
       "</table>\n",
       "<p>17185 rows × 3 columns</p>\n",
       "</div>"
      ],
      "text/plain": [
       "                       title    views  industry\n",
       "6993                Baaghi 2  1638533         2\n",
       "7400         Tiger Zinda Hai  1038317         2\n",
       "6585                    Raid   993825         2\n",
       "4666       Avengers: Endgame   991133         4\n",
       "6643  Avengers: Infinity War   969673         4\n",
       "...                      ...      ...       ...\n",
       "358    TNA.Impact 2022-12-08      888         9\n",
       "548    TNA.Impact 2022-11-03      873         9\n",
       "502    TNA.Impact 2022-11-10      852         9\n",
       "2749               Free Byrd      698         4\n",
       "14     TNA.Impact 2023-02-16      667         9\n",
       "\n",
       "[17185 rows x 3 columns]"
      ]
     },
     "execution_count": 45,
     "metadata": {},
     "output_type": "execute_result"
    }
   ],
   "source": [
    "vd =data_cleaned[['title','views', 'industry']].sort_values(by='views', ascending=False)\n",
    "vd"
   ]
  },
  {
   "cell_type": "markdown",
   "metadata": {
    "id": "KdfXi80ZKteE"
   },
   "source": [
    "**Explanation of above code**\n",
    "\n",
    "This code is sorting a DataFrame called data_cleaned by the columns views and industry in descending order.\n",
    "This allows us to see which entries in data_cleaned have the most views, sorted by industry."
   ]
  },
  {
   "cell_type": "markdown",
   "metadata": {
    "id": "u9RuV5PfLBDL"
   },
   "source": [
    "**A bar plot showing the top 20 pirated movies with the highest views, sorted by industry.**\n",
    "\n",
    "---\n",
    "\n"
   ]
  },
  {
   "cell_type": "code",
   "execution_count": 46,
   "metadata": {
    "colab": {
     "base_uri": "https://localhost:8080/",
     "height": 497
    },
    "id": "GFwPS_NkviZp",
    "outputId": "f1d178d2-1a82-4791-c147-03e51016fc3a"
   },
   "outputs": [
    {
     "data": {
      "text/plain": [
       "Text(0.5, 1.0, 'Highest viewed pirated Movies by Industry')"
      ]
     },
     "execution_count": 46,
     "metadata": {},
     "output_type": "execute_result"
    },
    {
     "data": {
      "image/png": "[encoded data removed]",
      "text/plain": [
       "<Figure size 432x288 with 1 Axes>"
      ]
     },
     "metadata": {
      "needs_background": "light"
     },
     "output_type": "display_data"
    }
   ],
   "source": [
    "import seaborn as sns\n",
    "\n",
    "sns.barplot(data=vd[0:20], y='title', x='views', hue = 'industry', orient='h', dodge=False)\n",
    "plt.ylabel('Movie name')\n",
    "plt.xlabel('Views')\n",
    "plt.xticks(rotation=90)\n",
    "plt.title('Highest viewed pirated Movies by Industry')"
   ]
  },
  {
   "cell_type": "markdown",
   "metadata": {
    "id": "sudR6pftwB6m"
   },
   "source": [
    "##Which industry is mostly affected by piracy?"
   ]
  },
  {
   "cell_type": "code",
   "execution_count": 47,
   "metadata": {
    "id": "No_vrAvXv1Qv"
   },
   "outputs": [],
   "source": [
    "import matplotlib.pyplot as plt\n",
    "x=[]\n",
    "industry_rate=data_cleaned['industry'].value_counts().values\n",
    "industry_name = data_cleaned['industry'].value_counts().index\n",
    "for i in industry_rate:\n",
    "    x.append((0.5)*i + 0.5*1700)"
   ]
  },
  {
   "cell_type": "markdown",
   "metadata": {
    "id": "JY3-KUxMLmpD"
   },
   "source": [
    "This code creates a pie chart showing the relative proportion of movies from each industry that are affected by piracy.\n",
    "\n",
    "First, it calculates the total number of movies for each industry from the data_cleaned DataFrame. Then, it calculates a normalized value for each industry by taking half the number of movies in that industry and adding it to a fixed constant value of 1700. The constant value is used to ensure that the smallest industry still has a non-zero normalized value.\n",
    "\n",
    "Finally, the plt.pie function is used to create a pie chart with the normalized values for each industry as the input data. The industry names are used as labels for each slice of the pie chart. The rotation argument is used to rotate the labels along the x-axis to prevent overlapping. The title of the chart is \"Industry affected by Piracy (Normalized Values).\""
   ]
  },
  {
   "cell_type": "markdown",
   "metadata": {
    "id": "c0sMjROgL8HY"
   },
   "source": [
    "**Generate a pie chart showing the percentage of movies affected by piracy in each industry**\n",
    "\n",
    "---\n",
    "\n"
   ]
  },
  {
   "cell_type": "code",
   "execution_count": 48,
   "metadata": {
    "colab": {
     "base_uri": "https://localhost:8080/",
     "height": 445
    },
    "id": "DP5VJ6kOwdJb",
    "outputId": "4fd28c4a-8554-45cd-899c-b6783acebb35"
   },
   "outputs": [
    {
     "data": {
      "text/plain": [
       "Text(0.5, 1.0, 'Industry affected by Piracy ( Normalized Values)')"
      ]
     },
     "execution_count": 48,
     "metadata": {},
     "output_type": "execute_result"
    },
    {
     "data": {
      "image/png": "[encoded data removed]",
      "text/plain": [
       "<Figure size 432x288 with 1 Axes>"
      ]
     },
     "metadata": {},
     "output_type": "display_data"
    }
   ],
   "source": [
    "fig, ax = plt.subplots()\n",
    "\n",
    "# ax.bar(industry_name, x)\n",
    "plt.pie(x, labels = industry_name)\n",
    "\n",
    "plt.xticks(rotation=80)\n",
    "\n",
    "plt.title('Industry affected by Piracy ( Normalized Values)')\n"
   ]
  },
  {
   "cell_type": "markdown",
   "metadata": {
    "id": "RBTkNd7QyL7n"
   },
   "source": [
    "We can obsereve that Hollywood/English Industry is the most affected by Piracy followed by Bollywood/Indian Industry."
   ]
  },
  {
   "cell_type": "markdown",
   "metadata": {
    "id": "gJCML39EzixR"
   },
   "source": [
    "# Machine Learning Model"
   ]
  },
  {
   "cell_type": "markdown",
   "metadata": {
    "id": "0cic8Yk6MHvA"
   },
   "source": [
    "**Importing Libraries**\n",
    "\n",
    "---\n",
    "\n"
   ]
  },
  {
   "cell_type": "code",
   "execution_count": 49,
   "metadata": {
    "id": "7G9CVYnSwiFU"
   },
   "outputs": [],
   "source": [
    "from sklearn.metrics import mean_squared_error, r2_score  \n",
    "from sklearn.linear_model import LinearRegression"
   ]
  },
  {
   "cell_type": "markdown",
   "metadata": {
    "id": "-qRM8XwXMTyi"
   },
   "source": [
    "mean_squared_error function computes mean squared error regression loss between actual and predicted values.\n",
    "\n",
    "r2_score function computes the coefficient of determination which is used to evaluate the quality of the regression model.\n",
    "\n",
    "LinearRegression is a class used for performing linear regression analysis in Scikit-learn. It fits a linear model to the given data and makes predictions based on that."
   ]
  },
  {
   "cell_type": "markdown",
   "metadata": {
    "id": "i2kEW1LvMa8m"
   },
   "source": [
    "**Printing the preprocessed data**\n",
    "\n",
    "---\n",
    "\n"
   ]
  },
  {
   "cell_type": "code",
   "execution_count": 50,
   "metadata": {
    "colab": {
     "base_uri": "https://localhost:8080/",
     "height": 423
    },
    "id": "ECPYpA6u3Hvq",
    "outputId": "a65b4194-9c92-4676-851a-150d5e993ef9"
   },
   "outputs": [
    {
     "data": {
      "text/html": [
       "<div>\n",
       "<style scoped>\n",
       "    .dataframe tbody tr th:only-of-type {\n",
       "        vertical-align: middle;\n",
       "    }\n",
       "\n",
       "    .dataframe tbody tr th {\n",
       "        vertical-align: top;\n",
       "    }\n",
       "\n",
       "    .dataframe thead th {\n",
       "        text-align: right;\n",
       "    }\n",
       "</style>\n",
       "<table border=\"1\" class=\"dataframe\">\n",
       "  <thead>\n",
       "    <tr style=\"text-align: right;\">\n",
       "      <th></th>\n",
       "      <th>Unnamed: 0</th>\n",
       "      <th>IMDb-rating</th>\n",
       "      <th>appropriate_for</th>\n",
       "      <th>downloads</th>\n",
       "      <th>id</th>\n",
       "      <th>industry</th>\n",
       "      <th>language</th>\n",
       "      <th>posted_date</th>\n",
       "      <th>release_date</th>\n",
       "      <th>run_time</th>\n",
       "      <th>title</th>\n",
       "      <th>views</th>\n",
       "    </tr>\n",
       "  </thead>\n",
       "  <tbody>\n",
       "    <tr>\n",
       "      <th>0</th>\n",
       "      <td>1</td>\n",
       "      <td>6.4</td>\n",
       "      <td>15</td>\n",
       "      <td>73</td>\n",
       "      <td>372091</td>\n",
       "      <td>4</td>\n",
       "      <td>54</td>\n",
       "      <td>2023-02-20</td>\n",
       "      <td>1675555200000000000</td>\n",
       "      <td>84</td>\n",
       "      <td>Grilling Season: A Curious Caterer Mystery</td>\n",
       "      <td>1002</td>\n",
       "    </tr>\n",
       "    <tr>\n",
       "      <th>1</th>\n",
       "      <td>2</td>\n",
       "      <td>5.2</td>\n",
       "      <td>10</td>\n",
       "      <td>1427</td>\n",
       "      <td>343381</td>\n",
       "      <td>4</td>\n",
       "      <td>351</td>\n",
       "      <td>2021-04-20</td>\n",
       "      <td>1623974400000000000</td>\n",
       "      <td>107</td>\n",
       "      <td>In the Earth</td>\n",
       "      <td>14419</td>\n",
       "    </tr>\n",
       "    <tr>\n",
       "      <th>2</th>\n",
       "      <td>4</td>\n",
       "      <td>4.6</td>\n",
       "      <td>19</td>\n",
       "      <td>657</td>\n",
       "      <td>372089</td>\n",
       "      <td>8</td>\n",
       "      <td>854</td>\n",
       "      <td>2023-02-20</td>\n",
       "      <td>1674691200000000000</td>\n",
       "      <td>122</td>\n",
       "      <td>Alone</td>\n",
       "      <td>2438</td>\n",
       "    </tr>\n",
       "    <tr>\n",
       "      <th>3</th>\n",
       "      <td>5</td>\n",
       "      <td>5.4</td>\n",
       "      <td>19</td>\n",
       "      <td>746</td>\n",
       "      <td>372088</td>\n",
       "      <td>8</td>\n",
       "      <td>854</td>\n",
       "      <td>2023-02-20</td>\n",
       "      <td>1637884800000000000</td>\n",
       "      <td>131</td>\n",
       "      <td>Anubhavinchu Raja</td>\n",
       "      <td>2940</td>\n",
       "    </tr>\n",
       "    <tr>\n",
       "      <th>4</th>\n",
       "      <td>6</td>\n",
       "      <td>NaN</td>\n",
       "      <td>15</td>\n",
       "      <td>5332</td>\n",
       "      <td>372059</td>\n",
       "      <td>9</td>\n",
       "      <td>54</td>\n",
       "      <td>2023-02-19</td>\n",
       "      <td>1676678400000000000</td>\n",
       "      <td>200</td>\n",
       "      <td>WWE Elimination Chamber</td>\n",
       "      <td>11978</td>\n",
       "    </tr>\n",
       "    <tr>\n",
       "      <th>...</th>\n",
       "      <td>...</td>\n",
       "      <td>...</td>\n",
       "      <td>...</td>\n",
       "      <td>...</td>\n",
       "      <td>...</td>\n",
       "      <td>...</td>\n",
       "      <td>...</td>\n",
       "      <td>...</td>\n",
       "      <td>...</td>\n",
       "      <td>...</td>\n",
       "      <td>...</td>\n",
       "      <td>...</td>\n",
       "    </tr>\n",
       "    <tr>\n",
       "      <th>17181</th>\n",
       "      <td>29</td>\n",
       "      <td>6.1</td>\n",
       "      <td>10</td>\n",
       "      <td>283</td>\n",
       "      <td>371876</td>\n",
       "      <td>4</td>\n",
       "      <td>54</td>\n",
       "      <td>2023-02-15</td>\n",
       "      <td>1676419200000000000</td>\n",
       "      <td>110</td>\n",
       "      <td>Marlowe</td>\n",
       "      <td>3149</td>\n",
       "    </tr>\n",
       "    <tr>\n",
       "      <th>17182</th>\n",
       "      <td>11</td>\n",
       "      <td>9.0</td>\n",
       "      <td>19</td>\n",
       "      <td>12954</td>\n",
       "      <td>372039</td>\n",
       "      <td>2</td>\n",
       "      <td>854</td>\n",
       "      <td>2023-02-18</td>\n",
       "      <td>1676592000000000000</td>\n",
       "      <td>142</td>\n",
       "      <td>Shehzada</td>\n",
       "      <td>36237</td>\n",
       "    </tr>\n",
       "    <tr>\n",
       "      <th>17183</th>\n",
       "      <td>43</td>\n",
       "      <td>5.0</td>\n",
       "      <td>19</td>\n",
       "      <td>622</td>\n",
       "      <td>371674</td>\n",
       "      <td>4</td>\n",
       "      <td>54</td>\n",
       "      <td>2023-02-10</td>\n",
       "      <td>1675382400000000000</td>\n",
       "      <td>93</td>\n",
       "      <td>Baby Ruby</td>\n",
       "      <td>9201</td>\n",
       "    </tr>\n",
       "    <tr>\n",
       "      <th>17184</th>\n",
       "      <td>44</td>\n",
       "      <td>NaN</td>\n",
       "      <td>19</td>\n",
       "      <td>2609</td>\n",
       "      <td>371816</td>\n",
       "      <td>9</td>\n",
       "      <td>54</td>\n",
       "      <td>2023-02-14</td>\n",
       "      <td>1676246400000000000</td>\n",
       "      <td>90</td>\n",
       "      <td>WWE Raw 2023-02-13</td>\n",
       "      <td>6658</td>\n",
       "    </tr>\n",
       "    <tr>\n",
       "      <th>17185</th>\n",
       "      <td>63</td>\n",
       "      <td>NaN</td>\n",
       "      <td>19</td>\n",
       "      <td>309</td>\n",
       "      <td>371669</td>\n",
       "      <td>9</td>\n",
       "      <td>54</td>\n",
       "      <td>2023-02-10</td>\n",
       "      <td>1675900800000000000</td>\n",
       "      <td>90</td>\n",
       "      <td>TNA.Impact 2023-02-09</td>\n",
       "      <td>1380</td>\n",
       "    </tr>\n",
       "  </tbody>\n",
       "</table>\n",
       "<p>17185 rows × 12 columns</p>\n",
       "</div>"
      ],
      "text/plain": [
       "       Unnamed: 0  IMDb-rating  appropriate_for  downloads      id  industry  \\\n",
       "0               1          6.4               15         73  372091         4   \n",
       "1               2          5.2               10       1427  343381         4   \n",
       "2               4          4.6               19        657  372089         8   \n",
       "3               5          5.4               19        746  372088         8   \n",
       "4               6          NaN               15       5332  372059         9   \n",
       "...           ...          ...              ...        ...     ...       ...   \n",
       "17181          29          6.1               10        283  371876         4   \n",
       "17182          11          9.0               19      12954  372039         2   \n",
       "17183          43          5.0               19        622  371674         4   \n",
       "17184          44          NaN               19       2609  371816         9   \n",
       "17185          63          NaN               19        309  371669         9   \n",
       "\n",
       "       language posted_date         release_date  run_time  \\\n",
       "0            54  2023-02-20  1675555200000000000        84   \n",
       "1           351  2021-04-20  1623974400000000000       107   \n",
       "2           854  2023-02-20  1674691200000000000       122   \n",
       "3           854  2023-02-20  1637884800000000000       131   \n",
       "4            54  2023-02-19  1676678400000000000       200   \n",
       "...         ...         ...                  ...       ...   \n",
       "17181        54  2023-02-15  1676419200000000000       110   \n",
       "17182       854  2023-02-18  1676592000000000000       142   \n",
       "17183        54  2023-02-10  1675382400000000000        93   \n",
       "17184        54  2023-02-14  1676246400000000000        90   \n",
       "17185        54  2023-02-10  1675900800000000000        90   \n",
       "\n",
       "                                            title  views  \n",
       "0      Grilling Season: A Curious Caterer Mystery   1002  \n",
       "1                                    In the Earth  14419  \n",
       "2                                           Alone   2438  \n",
       "3                               Anubhavinchu Raja   2940  \n",
       "4                         WWE Elimination Chamber  11978  \n",
       "...                                           ...    ...  \n",
       "17181                                     Marlowe   3149  \n",
       "17182                                    Shehzada  36237  \n",
       "17183                                   Baby Ruby   9201  \n",
       "17184                          WWE Raw 2023-02-13   6658  \n",
       "17185                       TNA.Impact 2023-02-09   1380  \n",
       "\n",
       "[17185 rows x 12 columns]"
      ]
     },
     "execution_count": 50,
     "metadata": {},
     "output_type": "execute_result"
    }
   ],
   "source": [
    "data_status"
   ]
  },
  {
   "cell_type": "markdown",
   "metadata": {
    "id": "kgQ59mAa4AW1"
   },
   "source": [
    "###Linear Regression\n",
    "Predicting the number of views based on the number of downloads.\n",
    "\n",
    "\n",
    "\n"
   ]
  },
  {
   "cell_type": "code",
   "execution_count": 51,
   "metadata": {
    "colab": {
     "base_uri": "https://localhost:8080/",
     "height": 74
    },
    "id": "ND2YQ4dJ2Epe",
    "outputId": "6049ad7d-dcd1-45f6-a5a8-4f95a740ffe8"
   },
   "outputs": [
    {
     "data": {
      "text/plain": [
       "LinearRegression()"
      ]
     },
     "execution_count": 51,
     "metadata": {},
     "output_type": "execute_result"
    }
   ],
   "source": [
    "linear_reg = LinearRegression()\n",
    "x =data_cleaned['downloads'].values.reshape(-1,1)\n",
    "y = data_cleaned['views']        \n",
    "\n",
    "linear_reg.fit(x,y)"
   ]
  },
  {
   "cell_type": "markdown",
   "metadata": {
    "id": "i3DAPy8NMmo-"
   },
   "source": [
    "In the above code we are fitting a simple linear regression model using the LinearRegression class from scikit-learn library. The feature 'downloads' is taken as the independent variable(x) and the target variable is 'views'. We reshape the 'downloads' feature to a 2D array with a single column using the 'reshape' method. Then we fit the linear regression model using the 'fit' method with the feature 'downloads' and the target variable 'views'. The trained model will be stored in the 'linear_reg' object."
   ]
  },
  {
   "cell_type": "markdown",
   "metadata": {
    "id": "LcnYEbw6M_w2"
   },
   "source": [
    "**Visualising and Calculating Evaluation matrix fro linear regression**\n",
    "\n",
    "---\n",
    "\n"
   ]
  },
  {
   "cell_type": "code",
   "execution_count": 52,
   "metadata": {
    "colab": {
     "base_uri": "https://localhost:8080/",
     "height": 497
    },
    "id": "C454Yady3eLW",
    "outputId": "1c7fad64-c8bc-453f-c40f-759a5a28cf2b"
   },
   "outputs": [
    {
     "data": {
      "image/png": "[encoded data removed]",
      "text/plain": [
       "<Figure size 432x288 with 1 Axes>"
      ]
     },
     "metadata": {
      "needs_background": "light"
     },
     "output_type": "display_data"
    },
    {
     "name": "stdout",
     "output_type": "stream",
     "text": [
      "Mean Absolute Error:  299537.80400399014\n",
      "Mean Squared Error:  117709157823.732\n",
      "Root Mean Squared Error:  343087.68241330376\n"
     ]
    }
   ],
   "source": [
    "# Creating an array with minimum and maximum values of downloads column to be used for x-axis in the scatterplot\n",
    "x_array = np.arange(min(data_status['downloads']),max(data_status['downloads'])).reshape(-1,1)  # this for information about the line to be predicted\n",
    "\n",
    "# Creating a scatterplot of downloads vs Views\n",
    "plt.scatter(x,y)\n",
    "\n",
    "# Predicting y-values for the range of x-values created above and plotting the linear regression line\n",
    "y_head = linear_reg.predict(x_array)                               \n",
    "plt.plot(x_array,y_head,color=\"red\")\n",
    "\n",
    "# Displaying the scatterplot and the regression line\n",
    "plt.show()\n",
    "\n",
    "# Calculating and printing the evaluation metrics of the linear regression model\n",
    "from sklearn import metrics\n",
    "print(\"Mean Absolute Error: \", metrics.mean_absolute_error(x_array,y_head))\n",
    "print(\"Mean Squared Error: \", metrics.mean_squared_error(x_array,y_head))\n",
    "print(\"Root Mean Squared Error: \", np.sqrt(metrics.mean_squared_error(x_array, y_head)))"
   ]
  },
  {
   "cell_type": "markdown",
   "metadata": {
    "id": "ibY7HsFQN2hy"
   },
   "source": [
    "**Calculating r2_score and Print it**\n",
    "\n",
    "---\n",
    "\n"
   ]
  },
  {
   "cell_type": "code",
   "execution_count": 53,
   "metadata": {
    "colab": {
     "base_uri": "https://localhost:8080/"
    },
    "id": "C8vQSPgz3wN3",
    "outputId": "efd22177-72a5-40d7-c3a6-330be37df0c4"
   },
   "outputs": [
    {
     "name": "stdout",
     "output_type": "stream",
     "text": [
      "0.8956888826617468\n"
     ]
    }
   ],
   "source": [
    "print(r2_score(y, linear_reg.predict(x)))"
   ]
  },
  {
   "cell_type": "markdown",
   "metadata": {
    "id": "-KGSv4vSN1gf"
   },
   "source": [
    "The r2_score function calculates how well the linear regression model fits the data. It gives a value between 0 and 1, where 1 means that the model perfectly predicts the outcome, and 0 means that the model doesn't explain any of the variation in the data.\n",
    "\n",
    "In the given code, r2_score(y, linear_reg.predict(x)) is calculating the coefficient of determination for the linear regression model where x is the independent variable (downloads) and y is the dependent variable (views). The predict function is used to predict the views using the linear regression model. The output of the r2_score function is printed to the console."
   ]
  },
  {
   "cell_type": "markdown",
   "metadata": {
    "id": "djVXdfMp4IbZ"
   },
   "source": [
    "###Multi Linear Regression\n",
    "Predicting the number of views based on several variables like number of downloads, run_time, language and IMDb-rating of a movie.\n",
    "\n",
    "\n",
    "\n"
   ]
  },
  {
   "cell_type": "code",
   "execution_count": 54,
   "metadata": {
    "colab": {
     "base_uri": "https://localhost:8080/",
     "height": 206
    },
    "id": "DUDrfCCy32rN",
    "outputId": "371dd6af-f0a1-4e1e-98fc-08854a4bf849"
   },
   "outputs": [
    {
     "data": {
      "text/html": [
       "<div>\n",
       "<style scoped>\n",
       "    .dataframe tbody tr th:only-of-type {\n",
       "        vertical-align: middle;\n",
       "    }\n",
       "\n",
       "    .dataframe tbody tr th {\n",
       "        vertical-align: top;\n",
       "    }\n",
       "\n",
       "    .dataframe thead th {\n",
       "        text-align: right;\n",
       "    }\n",
       "</style>\n",
       "<table border=\"1\" class=\"dataframe\">\n",
       "  <thead>\n",
       "    <tr style=\"text-align: right;\">\n",
       "      <th></th>\n",
       "      <th>downloads</th>\n",
       "      <th>run_time</th>\n",
       "      <th>language</th>\n",
       "      <th>IMDb-rating</th>\n",
       "    </tr>\n",
       "  </thead>\n",
       "  <tbody>\n",
       "    <tr>\n",
       "      <th>0</th>\n",
       "      <td>73</td>\n",
       "      <td>84</td>\n",
       "      <td>54</td>\n",
       "      <td>6.4</td>\n",
       "    </tr>\n",
       "    <tr>\n",
       "      <th>1</th>\n",
       "      <td>1427</td>\n",
       "      <td>107</td>\n",
       "      <td>351</td>\n",
       "      <td>5.2</td>\n",
       "    </tr>\n",
       "    <tr>\n",
       "      <th>2</th>\n",
       "      <td>657</td>\n",
       "      <td>122</td>\n",
       "      <td>854</td>\n",
       "      <td>4.6</td>\n",
       "    </tr>\n",
       "    <tr>\n",
       "      <th>3</th>\n",
       "      <td>746</td>\n",
       "      <td>131</td>\n",
       "      <td>854</td>\n",
       "      <td>5.4</td>\n",
       "    </tr>\n",
       "    <tr>\n",
       "      <th>5</th>\n",
       "      <td>1781</td>\n",
       "      <td>116</td>\n",
       "      <td>54</td>\n",
       "      <td>6.5</td>\n",
       "    </tr>\n",
       "  </tbody>\n",
       "</table>\n",
       "</div>"
      ],
      "text/plain": [
       "   downloads  run_time  language  IMDb-rating\n",
       "0         73        84        54          6.4\n",
       "1       1427       107       351          5.2\n",
       "2        657       122       854          4.6\n",
       "3        746       131       854          5.4\n",
       "5       1781       116        54          6.5"
      ]
     },
     "execution_count": 54,
     "metadata": {},
     "output_type": "execute_result"
    }
   ],
   "source": [
    "multidata_x=data_cleaned.loc[:,['downloads','run_time','language','IMDb-rating']]\n",
    "y=data_cleaned['views']\n",
    "multidata_x.head()"
   ]
  },
  {
   "cell_type": "markdown",
   "metadata": {
    "id": "eW7pMT2xQRZ9"
   },
   "source": [
    "**Fit the multidata_x and y with linear regression**\n",
    "\n",
    "---\n",
    "\n"
   ]
  },
  {
   "cell_type": "code",
   "execution_count": 55,
   "metadata": {
    "id": "HScFC86r4x0_"
   },
   "outputs": [],
   "source": [
    "model=linear_reg.fit(multidata_x,y)"
   ]
  },
  {
   "cell_type": "markdown",
   "metadata": {
    "id": "bj1tLxqCQb_1"
   },
   "source": [
    "**find errors**\n",
    "\n",
    "---\n",
    "\n"
   ]
  },
  {
   "cell_type": "code",
   "execution_count": 56,
   "metadata": {
    "colab": {
     "base_uri": "https://localhost:8080/"
    },
    "id": "yjOcT5TT41Fy",
    "outputId": "c8bdf7a0-c68e-4cc6-9df9-67a10dd1ac60"
   },
   "outputs": [
    {
     "data": {
      "text/plain": [
       "21533.47011863637"
      ]
     },
     "execution_count": 56,
     "metadata": {},
     "output_type": "execute_result"
    }
   ],
   "source": [
    "rmse=np.sqrt(mean_squared_error(y,model.predict(multidata_x)))\n",
    "rmse"
   ]
  },
  {
   "cell_type": "markdown",
   "metadata": {
    "id": "31Xolr8YQfS0"
   },
   "source": [
    "**Check the model Score**\n",
    "\n",
    "---\n",
    "\n"
   ]
  },
  {
   "cell_type": "code",
   "execution_count": 57,
   "metadata": {
    "colab": {
     "base_uri": "https://localhost:8080/"
    },
    "id": "vVz-LtZo44Kp",
    "outputId": "2937621e-0a6d-4caf-b06b-28eba933d6cc"
   },
   "outputs": [
    {
     "data": {
      "text/plain": [
       "0.8964163342621583"
      ]
     },
     "execution_count": 57,
     "metadata": {},
     "output_type": "execute_result"
    }
   ],
   "source": [
    "model.score(multidata_x,y)"
   ]
  },
  {
   "cell_type": "markdown",
   "metadata": {
    "id": "IT2a9qNI6dnG"
   },
   "source": [
    "#Decision Tree Regression\n",
    "Predicting the number of views based on the number of downloads of the movie.\n"
   ]
  },
  {
   "cell_type": "code",
   "execution_count": 58,
   "metadata": {
    "id": "fmdRc1h958wQ"
   },
   "outputs": [],
   "source": [
    "from sklearn.tree import DecisionTreeRegressor   # import the DecisionTreeRegressor model\n",
    "from sklearn.model_selection import train_test_split   # import the train_test_split function\n",
    "\n",
    "# prepare the data\n",
    "x = data_status['downloads'].values.reshape(-1,1)\n",
    "y = data_status['views'].values.reshape(-1,1)\n",
    "\n",
    "# split the data into training and testing sets\n",
    "x_train, x_test, y_train, y_test = train_test_split(x, y, test_size = 0.20, random_state= 42)"
   ]
  },
  {
   "cell_type": "markdown",
   "metadata": {
    "id": "a7hyCWvaRc7i"
   },
   "source": [
    "In the above code imports the DecisionTreeRegressor model from the sklearn.tree module and the train_test_split function from the sklearn.model_selection module. It then prepares the data by extracting the downloads and views columns from the data_status DataFrame and reshaping them into NumPy arrays. Finally, it splits the data into training and testing sets using the train_test_split function, with 20% of the data allocated to the test set and a random state of 42 for reproducibility."
   ]
  },
  {
   "cell_type": "markdown",
   "metadata": {
    "id": "_3SsHRsVQ2Ag"
   },
   "source": [
    "**fitting the final model according to train values**\n",
    "\n",
    "---\n",
    "\n"
   ]
  },
  {
   "cell_type": "code",
   "execution_count": 59,
   "metadata": {
    "colab": {
     "base_uri": "https://localhost:8080/",
     "height": 74
    },
    "id": "QsCTS5ed8KUQ",
    "outputId": "a0de3591-4a32-4e76-e928-b216e80b0ea4"
   },
   "outputs": [
    {
     "data": {
      "text/plain": [
       "DecisionTreeRegressor()"
      ]
     },
     "execution_count": 59,
     "metadata": {},
     "output_type": "execute_result"
    }
   ],
   "source": [
    "DT_reg = DecisionTreeRegressor()           # Decision Tree model\n",
    "DT_reg.fit(x_train,y_train)                # fitting the final model according to train values"
   ]
  },
  {
   "cell_type": "markdown",
   "metadata": {
    "id": "nOP9KEmMR1rl"
   },
   "source": [
    "**Visualize the results using a scatter plot and a predicted line.**\n",
    "\n",
    "---\n",
    "\n"
   ]
  },
  {
   "cell_type": "code",
   "execution_count": 60,
   "metadata": {
    "colab": {
     "base_uri": "https://localhost:8080/",
     "height": 465
    },
    "id": "C6UFxkz98dh3",
    "outputId": "31260869-7f59-42ba-a21f-0437741ac232"
   },
   "outputs": [
    {
     "data": {
      "image/png": "[encoded data removed]",
      "text/plain": [
       "<Figure size 432x288 with 1 Axes>"
      ]
     },
     "metadata": {
      "needs_background": "light"
     },
     "output_type": "display_data"
    }
   ],
   "source": [
    "# Generate x values to be used for drawing the predicted line\n",
    "# The values start from the minimum x value and end at the maximum x value with a step size of 0.01\n",
    "# The resulting array is reshaped to a 2D array with one column using reshape(-1,1)\n",
    "x_array = np.arange(min(x),max(x),0.01).reshape(-1,1)\n",
    "\n",
    "# Use the DecisionTreeRegressor model to predict y values for each x value in x_array\n",
    "y_head = DT_reg.predict(x_array)\n",
    "\n",
    "# Create a scatter plot with red dots to represent the actual data points\n",
    "plt.scatter(x,y, color=\"red\")\n",
    "\n",
    "# Create a blue line plot to represent the predicted values based on the DecisionTreeRegressor model\n",
    "plt.plot(x_array,y_head,color=\"blue\")\n",
    "\n",
    "# Label the x-axis as \"GDP\"\n",
    "plt.xlabel(\"GDP\")\n",
    "\n",
    "# Label the y-axis as \"percentage expenditure\"\n",
    "plt.ylabel(\"percentage expenditure\")\n",
    "\n",
    "# Show the plot\n",
    "plt.show()"
   ]
  },
  {
   "cell_type": "markdown",
   "metadata": {
    "id": "PXif72Hb9Uli"
   },
   "source": [
    "We can see in the above plot Red points which were original points and blue lines are what our model predicts,our model is able to predict good results."
   ]
  }
 ],
 "metadata": {
  "colab": {
   "provenance": []
  },
  "kernelspec": {
   "display_name": "Python 3",
   "language": "python",
   "name": "python3"
  },
  "language_info": {
   "codemirror_mode": {
    "name": "ipython",
    "version": 3
   },
   "file_extension": ".py",
   "mimetype": "text/x-python",
   "name": "python",
   "nbconvert_exporter": "python",
   "pygments_lexer": "ipython3",
   "version": "3.8.8"
  }
 },
 "nbformat": 4,
 "nbformat_minor": 1
}
